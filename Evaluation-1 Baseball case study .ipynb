{
 "cells": [
  {
   "cell_type": "markdown",
   "id": "600435c2",
   "metadata": {},
   "source": [
    "# Importing the Libraries:"
   ]
  },
  {
   "cell_type": "code",
   "execution_count": 1,
   "id": "488c8e86",
   "metadata": {},
   "outputs": [],
   "source": [
    "import pandas as pd\n",
    "import numpy as np\n",
    "import matplotlib.pyplot as plt\n",
    "%matplotlib inline\n",
    "import seaborn as sns\n",
    "import scipy.stats\n",
    "from sklearn import metrics\n",
    "from sklearn.linear_model import LinearRegression\n",
    "from sklearn.model_selection import train_test_split\n",
    "from sklearn.metrics import mean_absolute_error\n",
    "from sklearn.metrics import mean_squared_error\n",
    "from sklearn.metrics import r2_score\n",
    "from sklearn.model_selection import cross_val_score\n",
    "from sklearn.ensemble import RandomForestRegressor\n",
    "from sklearn.tree import DecisionTreeRegressor\n",
    "from sklearn.neighbors import KNeighborsRegressor as KNN\n",
    "from sklearn.svm import SVR\n",
    "from sklearn.metrics import classification_report\n",
    "from sklearn.model_selection import cross_val_score\n",
    "\n",
    "import warnings\n",
    "warnings.filterwarnings(\"ignore\")"
   ]
  },
  {
   "cell_type": "code",
   "execution_count": 2,
   "id": "e8f8cda1",
   "metadata": {},
   "outputs": [
    {
     "data": {
      "text/html": [
       "<div>\n",
       "<style scoped>\n",
       "    .dataframe tbody tr th:only-of-type {\n",
       "        vertical-align: middle;\n",
       "    }\n",
       "\n",
       "    .dataframe tbody tr th {\n",
       "        vertical-align: top;\n",
       "    }\n",
       "\n",
       "    .dataframe thead th {\n",
       "        text-align: right;\n",
       "    }\n",
       "</style>\n",
       "<table border=\"1\" class=\"dataframe\">\n",
       "  <thead>\n",
       "    <tr style=\"text-align: right;\">\n",
       "      <th></th>\n",
       "      <th>W</th>\n",
       "      <th>R</th>\n",
       "      <th>AB</th>\n",
       "      <th>H</th>\n",
       "      <th>2B</th>\n",
       "      <th>3B</th>\n",
       "      <th>HR</th>\n",
       "      <th>BB</th>\n",
       "      <th>SO</th>\n",
       "      <th>SB</th>\n",
       "      <th>RA</th>\n",
       "      <th>ER</th>\n",
       "      <th>ERA</th>\n",
       "      <th>CG</th>\n",
       "      <th>SHO</th>\n",
       "      <th>SV</th>\n",
       "      <th>E</th>\n",
       "    </tr>\n",
       "  </thead>\n",
       "  <tbody>\n",
       "    <tr>\n",
       "      <th>0</th>\n",
       "      <td>95</td>\n",
       "      <td>724</td>\n",
       "      <td>5575</td>\n",
       "      <td>1497</td>\n",
       "      <td>300</td>\n",
       "      <td>42</td>\n",
       "      <td>139</td>\n",
       "      <td>383</td>\n",
       "      <td>973</td>\n",
       "      <td>104</td>\n",
       "      <td>641</td>\n",
       "      <td>601</td>\n",
       "      <td>3.73</td>\n",
       "      <td>2</td>\n",
       "      <td>8</td>\n",
       "      <td>56</td>\n",
       "      <td>88</td>\n",
       "    </tr>\n",
       "    <tr>\n",
       "      <th>1</th>\n",
       "      <td>83</td>\n",
       "      <td>696</td>\n",
       "      <td>5467</td>\n",
       "      <td>1349</td>\n",
       "      <td>277</td>\n",
       "      <td>44</td>\n",
       "      <td>156</td>\n",
       "      <td>439</td>\n",
       "      <td>1264</td>\n",
       "      <td>70</td>\n",
       "      <td>700</td>\n",
       "      <td>653</td>\n",
       "      <td>4.07</td>\n",
       "      <td>2</td>\n",
       "      <td>12</td>\n",
       "      <td>45</td>\n",
       "      <td>86</td>\n",
       "    </tr>\n",
       "    <tr>\n",
       "      <th>2</th>\n",
       "      <td>81</td>\n",
       "      <td>669</td>\n",
       "      <td>5439</td>\n",
       "      <td>1395</td>\n",
       "      <td>303</td>\n",
       "      <td>29</td>\n",
       "      <td>141</td>\n",
       "      <td>533</td>\n",
       "      <td>1157</td>\n",
       "      <td>86</td>\n",
       "      <td>640</td>\n",
       "      <td>584</td>\n",
       "      <td>3.67</td>\n",
       "      <td>11</td>\n",
       "      <td>10</td>\n",
       "      <td>38</td>\n",
       "      <td>79</td>\n",
       "    </tr>\n",
       "    <tr>\n",
       "      <th>3</th>\n",
       "      <td>76</td>\n",
       "      <td>622</td>\n",
       "      <td>5533</td>\n",
       "      <td>1381</td>\n",
       "      <td>260</td>\n",
       "      <td>27</td>\n",
       "      <td>136</td>\n",
       "      <td>404</td>\n",
       "      <td>1231</td>\n",
       "      <td>68</td>\n",
       "      <td>701</td>\n",
       "      <td>643</td>\n",
       "      <td>3.98</td>\n",
       "      <td>7</td>\n",
       "      <td>9</td>\n",
       "      <td>37</td>\n",
       "      <td>101</td>\n",
       "    </tr>\n",
       "    <tr>\n",
       "      <th>4</th>\n",
       "      <td>74</td>\n",
       "      <td>689</td>\n",
       "      <td>5605</td>\n",
       "      <td>1515</td>\n",
       "      <td>289</td>\n",
       "      <td>49</td>\n",
       "      <td>151</td>\n",
       "      <td>455</td>\n",
       "      <td>1259</td>\n",
       "      <td>83</td>\n",
       "      <td>803</td>\n",
       "      <td>746</td>\n",
       "      <td>4.64</td>\n",
       "      <td>7</td>\n",
       "      <td>12</td>\n",
       "      <td>35</td>\n",
       "      <td>86</td>\n",
       "    </tr>\n",
       "    <tr>\n",
       "      <th>5</th>\n",
       "      <td>93</td>\n",
       "      <td>891</td>\n",
       "      <td>5509</td>\n",
       "      <td>1480</td>\n",
       "      <td>308</td>\n",
       "      <td>17</td>\n",
       "      <td>232</td>\n",
       "      <td>570</td>\n",
       "      <td>1151</td>\n",
       "      <td>88</td>\n",
       "      <td>670</td>\n",
       "      <td>609</td>\n",
       "      <td>3.80</td>\n",
       "      <td>7</td>\n",
       "      <td>10</td>\n",
       "      <td>34</td>\n",
       "      <td>88</td>\n",
       "    </tr>\n",
       "    <tr>\n",
       "      <th>6</th>\n",
       "      <td>87</td>\n",
       "      <td>764</td>\n",
       "      <td>5567</td>\n",
       "      <td>1397</td>\n",
       "      <td>272</td>\n",
       "      <td>19</td>\n",
       "      <td>212</td>\n",
       "      <td>554</td>\n",
       "      <td>1227</td>\n",
       "      <td>63</td>\n",
       "      <td>698</td>\n",
       "      <td>652</td>\n",
       "      <td>4.03</td>\n",
       "      <td>3</td>\n",
       "      <td>4</td>\n",
       "      <td>48</td>\n",
       "      <td>93</td>\n",
       "    </tr>\n",
       "    <tr>\n",
       "      <th>7</th>\n",
       "      <td>81</td>\n",
       "      <td>713</td>\n",
       "      <td>5485</td>\n",
       "      <td>1370</td>\n",
       "      <td>246</td>\n",
       "      <td>20</td>\n",
       "      <td>217</td>\n",
       "      <td>418</td>\n",
       "      <td>1331</td>\n",
       "      <td>44</td>\n",
       "      <td>693</td>\n",
       "      <td>646</td>\n",
       "      <td>4.05</td>\n",
       "      <td>0</td>\n",
       "      <td>10</td>\n",
       "      <td>43</td>\n",
       "      <td>77</td>\n",
       "    </tr>\n",
       "    <tr>\n",
       "      <th>8</th>\n",
       "      <td>80</td>\n",
       "      <td>644</td>\n",
       "      <td>5485</td>\n",
       "      <td>1383</td>\n",
       "      <td>278</td>\n",
       "      <td>32</td>\n",
       "      <td>167</td>\n",
       "      <td>436</td>\n",
       "      <td>1310</td>\n",
       "      <td>87</td>\n",
       "      <td>642</td>\n",
       "      <td>604</td>\n",
       "      <td>3.74</td>\n",
       "      <td>1</td>\n",
       "      <td>12</td>\n",
       "      <td>60</td>\n",
       "      <td>95</td>\n",
       "    </tr>\n",
       "    <tr>\n",
       "      <th>9</th>\n",
       "      <td>78</td>\n",
       "      <td>748</td>\n",
       "      <td>5640</td>\n",
       "      <td>1495</td>\n",
       "      <td>294</td>\n",
       "      <td>33</td>\n",
       "      <td>161</td>\n",
       "      <td>478</td>\n",
       "      <td>1148</td>\n",
       "      <td>71</td>\n",
       "      <td>753</td>\n",
       "      <td>694</td>\n",
       "      <td>4.31</td>\n",
       "      <td>3</td>\n",
       "      <td>10</td>\n",
       "      <td>40</td>\n",
       "      <td>97</td>\n",
       "    </tr>\n",
       "    <tr>\n",
       "      <th>10</th>\n",
       "      <td>88</td>\n",
       "      <td>751</td>\n",
       "      <td>5511</td>\n",
       "      <td>1419</td>\n",
       "      <td>279</td>\n",
       "      <td>32</td>\n",
       "      <td>172</td>\n",
       "      <td>503</td>\n",
       "      <td>1233</td>\n",
       "      <td>101</td>\n",
       "      <td>733</td>\n",
       "      <td>680</td>\n",
       "      <td>4.24</td>\n",
       "      <td>5</td>\n",
       "      <td>9</td>\n",
       "      <td>45</td>\n",
       "      <td>119</td>\n",
       "    </tr>\n",
       "    <tr>\n",
       "      <th>11</th>\n",
       "      <td>86</td>\n",
       "      <td>729</td>\n",
       "      <td>5459</td>\n",
       "      <td>1363</td>\n",
       "      <td>278</td>\n",
       "      <td>26</td>\n",
       "      <td>230</td>\n",
       "      <td>486</td>\n",
       "      <td>1392</td>\n",
       "      <td>121</td>\n",
       "      <td>618</td>\n",
       "      <td>572</td>\n",
       "      <td>3.57</td>\n",
       "      <td>5</td>\n",
       "      <td>13</td>\n",
       "      <td>39</td>\n",
       "      <td>85</td>\n",
       "    </tr>\n",
       "    <tr>\n",
       "      <th>12</th>\n",
       "      <td>85</td>\n",
       "      <td>661</td>\n",
       "      <td>5417</td>\n",
       "      <td>1331</td>\n",
       "      <td>243</td>\n",
       "      <td>21</td>\n",
       "      <td>176</td>\n",
       "      <td>435</td>\n",
       "      <td>1150</td>\n",
       "      <td>52</td>\n",
       "      <td>675</td>\n",
       "      <td>630</td>\n",
       "      <td>3.94</td>\n",
       "      <td>2</td>\n",
       "      <td>12</td>\n",
       "      <td>46</td>\n",
       "      <td>93</td>\n",
       "    </tr>\n",
       "    <tr>\n",
       "      <th>13</th>\n",
       "      <td>76</td>\n",
       "      <td>656</td>\n",
       "      <td>5544</td>\n",
       "      <td>1379</td>\n",
       "      <td>262</td>\n",
       "      <td>22</td>\n",
       "      <td>198</td>\n",
       "      <td>478</td>\n",
       "      <td>1336</td>\n",
       "      <td>69</td>\n",
       "      <td>726</td>\n",
       "      <td>677</td>\n",
       "      <td>4.16</td>\n",
       "      <td>6</td>\n",
       "      <td>12</td>\n",
       "      <td>45</td>\n",
       "      <td>94</td>\n",
       "    </tr>\n",
       "    <tr>\n",
       "      <th>14</th>\n",
       "      <td>68</td>\n",
       "      <td>694</td>\n",
       "      <td>5600</td>\n",
       "      <td>1405</td>\n",
       "      <td>277</td>\n",
       "      <td>46</td>\n",
       "      <td>146</td>\n",
       "      <td>475</td>\n",
       "      <td>1119</td>\n",
       "      <td>78</td>\n",
       "      <td>729</td>\n",
       "      <td>664</td>\n",
       "      <td>4.14</td>\n",
       "      <td>5</td>\n",
       "      <td>15</td>\n",
       "      <td>28</td>\n",
       "      <td>126</td>\n",
       "    </tr>\n",
       "    <tr>\n",
       "      <th>15</th>\n",
       "      <td>100</td>\n",
       "      <td>647</td>\n",
       "      <td>5484</td>\n",
       "      <td>1386</td>\n",
       "      <td>288</td>\n",
       "      <td>39</td>\n",
       "      <td>137</td>\n",
       "      <td>506</td>\n",
       "      <td>1267</td>\n",
       "      <td>69</td>\n",
       "      <td>525</td>\n",
       "      <td>478</td>\n",
       "      <td>2.94</td>\n",
       "      <td>1</td>\n",
       "      <td>15</td>\n",
       "      <td>62</td>\n",
       "      <td>96</td>\n",
       "    </tr>\n",
       "    <tr>\n",
       "      <th>16</th>\n",
       "      <td>98</td>\n",
       "      <td>697</td>\n",
       "      <td>5631</td>\n",
       "      <td>1462</td>\n",
       "      <td>292</td>\n",
       "      <td>27</td>\n",
       "      <td>140</td>\n",
       "      <td>461</td>\n",
       "      <td>1322</td>\n",
       "      <td>98</td>\n",
       "      <td>596</td>\n",
       "      <td>532</td>\n",
       "      <td>3.21</td>\n",
       "      <td>0</td>\n",
       "      <td>13</td>\n",
       "      <td>54</td>\n",
       "      <td>122</td>\n",
       "    </tr>\n",
       "    <tr>\n",
       "      <th>17</th>\n",
       "      <td>97</td>\n",
       "      <td>689</td>\n",
       "      <td>5491</td>\n",
       "      <td>1341</td>\n",
       "      <td>272</td>\n",
       "      <td>30</td>\n",
       "      <td>171</td>\n",
       "      <td>567</td>\n",
       "      <td>1518</td>\n",
       "      <td>95</td>\n",
       "      <td>608</td>\n",
       "      <td>546</td>\n",
       "      <td>3.36</td>\n",
       "      <td>6</td>\n",
       "      <td>21</td>\n",
       "      <td>48</td>\n",
       "      <td>111</td>\n",
       "    </tr>\n",
       "    <tr>\n",
       "      <th>18</th>\n",
       "      <td>68</td>\n",
       "      <td>655</td>\n",
       "      <td>5480</td>\n",
       "      <td>1378</td>\n",
       "      <td>274</td>\n",
       "      <td>34</td>\n",
       "      <td>145</td>\n",
       "      <td>412</td>\n",
       "      <td>1299</td>\n",
       "      <td>84</td>\n",
       "      <td>737</td>\n",
       "      <td>682</td>\n",
       "      <td>4.28</td>\n",
       "      <td>1</td>\n",
       "      <td>7</td>\n",
       "      <td>40</td>\n",
       "      <td>116</td>\n",
       "    </tr>\n",
       "    <tr>\n",
       "      <th>19</th>\n",
       "      <td>64</td>\n",
       "      <td>640</td>\n",
       "      <td>5571</td>\n",
       "      <td>1382</td>\n",
       "      <td>257</td>\n",
       "      <td>27</td>\n",
       "      <td>167</td>\n",
       "      <td>496</td>\n",
       "      <td>1255</td>\n",
       "      <td>134</td>\n",
       "      <td>754</td>\n",
       "      <td>700</td>\n",
       "      <td>4.33</td>\n",
       "      <td>2</td>\n",
       "      <td>8</td>\n",
       "      <td>35</td>\n",
       "      <td>90</td>\n",
       "    </tr>\n",
       "    <tr>\n",
       "      <th>20</th>\n",
       "      <td>90</td>\n",
       "      <td>683</td>\n",
       "      <td>5527</td>\n",
       "      <td>1351</td>\n",
       "      <td>295</td>\n",
       "      <td>17</td>\n",
       "      <td>177</td>\n",
       "      <td>488</td>\n",
       "      <td>1290</td>\n",
       "      <td>51</td>\n",
       "      <td>613</td>\n",
       "      <td>557</td>\n",
       "      <td>3.43</td>\n",
       "      <td>1</td>\n",
       "      <td>14</td>\n",
       "      <td>50</td>\n",
       "      <td>88</td>\n",
       "    </tr>\n",
       "    <tr>\n",
       "      <th>21</th>\n",
       "      <td>83</td>\n",
       "      <td>703</td>\n",
       "      <td>5428</td>\n",
       "      <td>1363</td>\n",
       "      <td>265</td>\n",
       "      <td>13</td>\n",
       "      <td>177</td>\n",
       "      <td>539</td>\n",
       "      <td>1344</td>\n",
       "      <td>57</td>\n",
       "      <td>635</td>\n",
       "      <td>577</td>\n",
       "      <td>3.62</td>\n",
       "      <td>4</td>\n",
       "      <td>13</td>\n",
       "      <td>41</td>\n",
       "      <td>90</td>\n",
       "    </tr>\n",
       "    <tr>\n",
       "      <th>22</th>\n",
       "      <td>71</td>\n",
       "      <td>613</td>\n",
       "      <td>5463</td>\n",
       "      <td>1420</td>\n",
       "      <td>236</td>\n",
       "      <td>40</td>\n",
       "      <td>120</td>\n",
       "      <td>375</td>\n",
       "      <td>1150</td>\n",
       "      <td>112</td>\n",
       "      <td>678</td>\n",
       "      <td>638</td>\n",
       "      <td>4.02</td>\n",
       "      <td>0</td>\n",
       "      <td>12</td>\n",
       "      <td>35</td>\n",
       "      <td>77</td>\n",
       "    </tr>\n",
       "    <tr>\n",
       "      <th>23</th>\n",
       "      <td>67</td>\n",
       "      <td>573</td>\n",
       "      <td>5420</td>\n",
       "      <td>1361</td>\n",
       "      <td>251</td>\n",
       "      <td>18</td>\n",
       "      <td>100</td>\n",
       "      <td>471</td>\n",
       "      <td>1107</td>\n",
       "      <td>69</td>\n",
       "      <td>760</td>\n",
       "      <td>698</td>\n",
       "      <td>4.41</td>\n",
       "      <td>3</td>\n",
       "      <td>10</td>\n",
       "      <td>44</td>\n",
       "      <td>90</td>\n",
       "    </tr>\n",
       "    <tr>\n",
       "      <th>24</th>\n",
       "      <td>63</td>\n",
       "      <td>626</td>\n",
       "      <td>5529</td>\n",
       "      <td>1374</td>\n",
       "      <td>272</td>\n",
       "      <td>37</td>\n",
       "      <td>130</td>\n",
       "      <td>387</td>\n",
       "      <td>1274</td>\n",
       "      <td>88</td>\n",
       "      <td>809</td>\n",
       "      <td>749</td>\n",
       "      <td>4.69</td>\n",
       "      <td>1</td>\n",
       "      <td>7</td>\n",
       "      <td>35</td>\n",
       "      <td>117</td>\n",
       "    </tr>\n",
       "    <tr>\n",
       "      <th>25</th>\n",
       "      <td>92</td>\n",
       "      <td>667</td>\n",
       "      <td>5385</td>\n",
       "      <td>1346</td>\n",
       "      <td>263</td>\n",
       "      <td>26</td>\n",
       "      <td>187</td>\n",
       "      <td>563</td>\n",
       "      <td>1258</td>\n",
       "      <td>59</td>\n",
       "      <td>595</td>\n",
       "      <td>553</td>\n",
       "      <td>3.44</td>\n",
       "      <td>6</td>\n",
       "      <td>21</td>\n",
       "      <td>47</td>\n",
       "      <td>75</td>\n",
       "    </tr>\n",
       "    <tr>\n",
       "      <th>26</th>\n",
       "      <td>84</td>\n",
       "      <td>696</td>\n",
       "      <td>5565</td>\n",
       "      <td>1486</td>\n",
       "      <td>288</td>\n",
       "      <td>39</td>\n",
       "      <td>136</td>\n",
       "      <td>457</td>\n",
       "      <td>1159</td>\n",
       "      <td>93</td>\n",
       "      <td>627</td>\n",
       "      <td>597</td>\n",
       "      <td>3.72</td>\n",
       "      <td>7</td>\n",
       "      <td>18</td>\n",
       "      <td>41</td>\n",
       "      <td>78</td>\n",
       "    </tr>\n",
       "    <tr>\n",
       "      <th>27</th>\n",
       "      <td>79</td>\n",
       "      <td>720</td>\n",
       "      <td>5649</td>\n",
       "      <td>1494</td>\n",
       "      <td>289</td>\n",
       "      <td>48</td>\n",
       "      <td>154</td>\n",
       "      <td>490</td>\n",
       "      <td>1312</td>\n",
       "      <td>132</td>\n",
       "      <td>713</td>\n",
       "      <td>659</td>\n",
       "      <td>4.04</td>\n",
       "      <td>1</td>\n",
       "      <td>12</td>\n",
       "      <td>44</td>\n",
       "      <td>86</td>\n",
       "    </tr>\n",
       "    <tr>\n",
       "      <th>28</th>\n",
       "      <td>74</td>\n",
       "      <td>650</td>\n",
       "      <td>5457</td>\n",
       "      <td>1324</td>\n",
       "      <td>260</td>\n",
       "      <td>36</td>\n",
       "      <td>148</td>\n",
       "      <td>426</td>\n",
       "      <td>1327</td>\n",
       "      <td>82</td>\n",
       "      <td>731</td>\n",
       "      <td>655</td>\n",
       "      <td>4.09</td>\n",
       "      <td>1</td>\n",
       "      <td>6</td>\n",
       "      <td>41</td>\n",
       "      <td>92</td>\n",
       "    </tr>\n",
       "    <tr>\n",
       "      <th>29</th>\n",
       "      <td>68</td>\n",
       "      <td>737</td>\n",
       "      <td>5572</td>\n",
       "      <td>1479</td>\n",
       "      <td>274</td>\n",
       "      <td>49</td>\n",
       "      <td>186</td>\n",
       "      <td>388</td>\n",
       "      <td>1283</td>\n",
       "      <td>97</td>\n",
       "      <td>844</td>\n",
       "      <td>799</td>\n",
       "      <td>5.04</td>\n",
       "      <td>4</td>\n",
       "      <td>4</td>\n",
       "      <td>36</td>\n",
       "      <td>95</td>\n",
       "    </tr>\n",
       "  </tbody>\n",
       "</table>\n",
       "</div>"
      ],
      "text/plain": [
       "      W    R    AB     H   2B  3B   HR   BB    SO   SB   RA   ER   ERA  CG  \\\n",
       "0    95  724  5575  1497  300  42  139  383   973  104  641  601  3.73   2   \n",
       "1    83  696  5467  1349  277  44  156  439  1264   70  700  653  4.07   2   \n",
       "2    81  669  5439  1395  303  29  141  533  1157   86  640  584  3.67  11   \n",
       "3    76  622  5533  1381  260  27  136  404  1231   68  701  643  3.98   7   \n",
       "4    74  689  5605  1515  289  49  151  455  1259   83  803  746  4.64   7   \n",
       "5    93  891  5509  1480  308  17  232  570  1151   88  670  609  3.80   7   \n",
       "6    87  764  5567  1397  272  19  212  554  1227   63  698  652  4.03   3   \n",
       "7    81  713  5485  1370  246  20  217  418  1331   44  693  646  4.05   0   \n",
       "8    80  644  5485  1383  278  32  167  436  1310   87  642  604  3.74   1   \n",
       "9    78  748  5640  1495  294  33  161  478  1148   71  753  694  4.31   3   \n",
       "10   88  751  5511  1419  279  32  172  503  1233  101  733  680  4.24   5   \n",
       "11   86  729  5459  1363  278  26  230  486  1392  121  618  572  3.57   5   \n",
       "12   85  661  5417  1331  243  21  176  435  1150   52  675  630  3.94   2   \n",
       "13   76  656  5544  1379  262  22  198  478  1336   69  726  677  4.16   6   \n",
       "14   68  694  5600  1405  277  46  146  475  1119   78  729  664  4.14   5   \n",
       "15  100  647  5484  1386  288  39  137  506  1267   69  525  478  2.94   1   \n",
       "16   98  697  5631  1462  292  27  140  461  1322   98  596  532  3.21   0   \n",
       "17   97  689  5491  1341  272  30  171  567  1518   95  608  546  3.36   6   \n",
       "18   68  655  5480  1378  274  34  145  412  1299   84  737  682  4.28   1   \n",
       "19   64  640  5571  1382  257  27  167  496  1255  134  754  700  4.33   2   \n",
       "20   90  683  5527  1351  295  17  177  488  1290   51  613  557  3.43   1   \n",
       "21   83  703  5428  1363  265  13  177  539  1344   57  635  577  3.62   4   \n",
       "22   71  613  5463  1420  236  40  120  375  1150  112  678  638  4.02   0   \n",
       "23   67  573  5420  1361  251  18  100  471  1107   69  760  698  4.41   3   \n",
       "24   63  626  5529  1374  272  37  130  387  1274   88  809  749  4.69   1   \n",
       "25   92  667  5385  1346  263  26  187  563  1258   59  595  553  3.44   6   \n",
       "26   84  696  5565  1486  288  39  136  457  1159   93  627  597  3.72   7   \n",
       "27   79  720  5649  1494  289  48  154  490  1312  132  713  659  4.04   1   \n",
       "28   74  650  5457  1324  260  36  148  426  1327   82  731  655  4.09   1   \n",
       "29   68  737  5572  1479  274  49  186  388  1283   97  844  799  5.04   4   \n",
       "\n",
       "    SHO  SV    E  \n",
       "0     8  56   88  \n",
       "1    12  45   86  \n",
       "2    10  38   79  \n",
       "3     9  37  101  \n",
       "4    12  35   86  \n",
       "5    10  34   88  \n",
       "6     4  48   93  \n",
       "7    10  43   77  \n",
       "8    12  60   95  \n",
       "9    10  40   97  \n",
       "10    9  45  119  \n",
       "11   13  39   85  \n",
       "12   12  46   93  \n",
       "13   12  45   94  \n",
       "14   15  28  126  \n",
       "15   15  62   96  \n",
       "16   13  54  122  \n",
       "17   21  48  111  \n",
       "18    7  40  116  \n",
       "19    8  35   90  \n",
       "20   14  50   88  \n",
       "21   13  41   90  \n",
       "22   12  35   77  \n",
       "23   10  44   90  \n",
       "24    7  35  117  \n",
       "25   21  47   75  \n",
       "26   18  41   78  \n",
       "27   12  44   86  \n",
       "28    6  41   92  \n",
       "29    4  36   95  "
      ]
     },
     "execution_count": 2,
     "metadata": {},
     "output_type": "execute_result"
    }
   ],
   "source": [
    "data = pd.read_csv(\"baseball.csv\")\n",
    "data"
   ]
  },
  {
   "cell_type": "code",
   "execution_count": 4,
   "id": "c02ce778",
   "metadata": {},
   "outputs": [
    {
     "data": {
      "text/plain": [
       "Index(['W', 'R', 'AB', 'H', '2B', '3B', 'HR', 'BB', 'SO', 'SB', 'RA', 'ER',\n",
       "       'ERA', 'CG', 'SHO', 'SV', 'E'],\n",
       "      dtype='object')"
      ]
     },
     "execution_count": 4,
     "metadata": {},
     "output_type": "execute_result"
    }
   ],
   "source": [
    "data.columns"
   ]
  },
  {
   "cell_type": "code",
   "execution_count": 5,
   "id": "477d94fd",
   "metadata": {},
   "outputs": [
    {
     "data": {
      "text/plain": [
       "(30, 17)"
      ]
     },
     "execution_count": 5,
     "metadata": {},
     "output_type": "execute_result"
    }
   ],
   "source": [
    "data.shape"
   ]
  },
  {
   "cell_type": "code",
   "execution_count": 6,
   "id": "d84c4ae5",
   "metadata": {},
   "outputs": [
    {
     "data": {
      "text/plain": [
       "W        int64\n",
       "R        int64\n",
       "AB       int64\n",
       "H        int64\n",
       "2B       int64\n",
       "3B       int64\n",
       "HR       int64\n",
       "BB       int64\n",
       "SO       int64\n",
       "SB       int64\n",
       "RA       int64\n",
       "ER       int64\n",
       "ERA    float64\n",
       "CG       int64\n",
       "SHO      int64\n",
       "SV       int64\n",
       "E        int64\n",
       "dtype: object"
      ]
     },
     "execution_count": 6,
     "metadata": {},
     "output_type": "execute_result"
    }
   ],
   "source": [
    "data.dtypes"
   ]
  },
  {
   "cell_type": "markdown",
   "id": "c8790619",
   "metadata": {},
   "source": [
    "Documentation:-\n",
    "\n",
    "Here I can see that most of the columns are having \"int\" datatype and a column \"ERA\" is with \"float\" datatype."
   ]
  },
  {
   "cell_type": "code",
   "execution_count": 7,
   "id": "9d554f1c",
   "metadata": {},
   "outputs": [
    {
     "name": "stdout",
     "output_type": "stream",
     "text": [
      "<class 'pandas.core.frame.DataFrame'>\n",
      "RangeIndex: 30 entries, 0 to 29\n",
      "Data columns (total 17 columns):\n",
      " #   Column  Non-Null Count  Dtype  \n",
      "---  ------  --------------  -----  \n",
      " 0   W       30 non-null     int64  \n",
      " 1   R       30 non-null     int64  \n",
      " 2   AB      30 non-null     int64  \n",
      " 3   H       30 non-null     int64  \n",
      " 4   2B      30 non-null     int64  \n",
      " 5   3B      30 non-null     int64  \n",
      " 6   HR      30 non-null     int64  \n",
      " 7   BB      30 non-null     int64  \n",
      " 8   SO      30 non-null     int64  \n",
      " 9   SB      30 non-null     int64  \n",
      " 10  RA      30 non-null     int64  \n",
      " 11  ER      30 non-null     int64  \n",
      " 12  ERA     30 non-null     float64\n",
      " 13  CG      30 non-null     int64  \n",
      " 14  SHO     30 non-null     int64  \n",
      " 15  SV      30 non-null     int64  \n",
      " 16  E       30 non-null     int64  \n",
      "dtypes: float64(1), int64(16)\n",
      "memory usage: 4.1 KB\n"
     ]
    }
   ],
   "source": [
    "data.info()"
   ]
  },
  {
   "cell_type": "markdown",
   "id": "4f0cc67d",
   "metadata": {},
   "source": [
    "Documentation:-\n",
    "    \n",
    "Here I can see that there are no empty or null-values in any of the columns."
   ]
  },
  {
   "cell_type": "markdown",
   "id": "7cc0f8f8",
   "metadata": {},
   "source": [
    "# Statistical Analysisof the data:"
   ]
  },
  {
   "cell_type": "code",
   "execution_count": 8,
   "id": "9ca02f2e",
   "metadata": {},
   "outputs": [
    {
     "data": {
      "text/html": [
       "<div>\n",
       "<style scoped>\n",
       "    .dataframe tbody tr th:only-of-type {\n",
       "        vertical-align: middle;\n",
       "    }\n",
       "\n",
       "    .dataframe tbody tr th {\n",
       "        vertical-align: top;\n",
       "    }\n",
       "\n",
       "    .dataframe thead th {\n",
       "        text-align: right;\n",
       "    }\n",
       "</style>\n",
       "<table border=\"1\" class=\"dataframe\">\n",
       "  <thead>\n",
       "    <tr style=\"text-align: right;\">\n",
       "      <th></th>\n",
       "      <th>W</th>\n",
       "      <th>R</th>\n",
       "      <th>AB</th>\n",
       "      <th>H</th>\n",
       "      <th>2B</th>\n",
       "      <th>3B</th>\n",
       "      <th>HR</th>\n",
       "      <th>BB</th>\n",
       "      <th>SO</th>\n",
       "      <th>SB</th>\n",
       "      <th>RA</th>\n",
       "      <th>ER</th>\n",
       "      <th>ERA</th>\n",
       "      <th>CG</th>\n",
       "      <th>SHO</th>\n",
       "      <th>SV</th>\n",
       "      <th>E</th>\n",
       "    </tr>\n",
       "  </thead>\n",
       "  <tbody>\n",
       "    <tr>\n",
       "      <th>count</th>\n",
       "      <td>30.000000</td>\n",
       "      <td>30.000000</td>\n",
       "      <td>30.000000</td>\n",
       "      <td>30.000000</td>\n",
       "      <td>30.000000</td>\n",
       "      <td>30.000000</td>\n",
       "      <td>30.000000</td>\n",
       "      <td>30.000000</td>\n",
       "      <td>30.00000</td>\n",
       "      <td>30.000000</td>\n",
       "      <td>30.000000</td>\n",
       "      <td>30.000000</td>\n",
       "      <td>30.000000</td>\n",
       "      <td>30.000000</td>\n",
       "      <td>30.000000</td>\n",
       "      <td>30.000000</td>\n",
       "      <td>30.000000</td>\n",
       "    </tr>\n",
       "    <tr>\n",
       "      <th>mean</th>\n",
       "      <td>80.966667</td>\n",
       "      <td>688.233333</td>\n",
       "      <td>5516.266667</td>\n",
       "      <td>1403.533333</td>\n",
       "      <td>274.733333</td>\n",
       "      <td>31.300000</td>\n",
       "      <td>163.633333</td>\n",
       "      <td>469.100000</td>\n",
       "      <td>1248.20000</td>\n",
       "      <td>83.500000</td>\n",
       "      <td>688.233333</td>\n",
       "      <td>635.833333</td>\n",
       "      <td>3.956333</td>\n",
       "      <td>3.466667</td>\n",
       "      <td>11.300000</td>\n",
       "      <td>43.066667</td>\n",
       "      <td>94.333333</td>\n",
       "    </tr>\n",
       "    <tr>\n",
       "      <th>std</th>\n",
       "      <td>10.453455</td>\n",
       "      <td>58.761754</td>\n",
       "      <td>70.467372</td>\n",
       "      <td>57.140923</td>\n",
       "      <td>18.095405</td>\n",
       "      <td>10.452355</td>\n",
       "      <td>31.823309</td>\n",
       "      <td>57.053725</td>\n",
       "      <td>103.75947</td>\n",
       "      <td>22.815225</td>\n",
       "      <td>72.108005</td>\n",
       "      <td>70.140786</td>\n",
       "      <td>0.454089</td>\n",
       "      <td>2.763473</td>\n",
       "      <td>4.120177</td>\n",
       "      <td>7.869335</td>\n",
       "      <td>13.958889</td>\n",
       "    </tr>\n",
       "    <tr>\n",
       "      <th>min</th>\n",
       "      <td>63.000000</td>\n",
       "      <td>573.000000</td>\n",
       "      <td>5385.000000</td>\n",
       "      <td>1324.000000</td>\n",
       "      <td>236.000000</td>\n",
       "      <td>13.000000</td>\n",
       "      <td>100.000000</td>\n",
       "      <td>375.000000</td>\n",
       "      <td>973.00000</td>\n",
       "      <td>44.000000</td>\n",
       "      <td>525.000000</td>\n",
       "      <td>478.000000</td>\n",
       "      <td>2.940000</td>\n",
       "      <td>0.000000</td>\n",
       "      <td>4.000000</td>\n",
       "      <td>28.000000</td>\n",
       "      <td>75.000000</td>\n",
       "    </tr>\n",
       "    <tr>\n",
       "      <th>25%</th>\n",
       "      <td>74.000000</td>\n",
       "      <td>651.250000</td>\n",
       "      <td>5464.000000</td>\n",
       "      <td>1363.000000</td>\n",
       "      <td>262.250000</td>\n",
       "      <td>23.000000</td>\n",
       "      <td>140.250000</td>\n",
       "      <td>428.250000</td>\n",
       "      <td>1157.50000</td>\n",
       "      <td>69.000000</td>\n",
       "      <td>636.250000</td>\n",
       "      <td>587.250000</td>\n",
       "      <td>3.682500</td>\n",
       "      <td>1.000000</td>\n",
       "      <td>9.000000</td>\n",
       "      <td>37.250000</td>\n",
       "      <td>86.000000</td>\n",
       "    </tr>\n",
       "    <tr>\n",
       "      <th>50%</th>\n",
       "      <td>81.000000</td>\n",
       "      <td>689.000000</td>\n",
       "      <td>5510.000000</td>\n",
       "      <td>1382.500000</td>\n",
       "      <td>275.500000</td>\n",
       "      <td>31.000000</td>\n",
       "      <td>158.500000</td>\n",
       "      <td>473.000000</td>\n",
       "      <td>1261.50000</td>\n",
       "      <td>83.500000</td>\n",
       "      <td>695.500000</td>\n",
       "      <td>644.500000</td>\n",
       "      <td>4.025000</td>\n",
       "      <td>3.000000</td>\n",
       "      <td>12.000000</td>\n",
       "      <td>42.000000</td>\n",
       "      <td>91.000000</td>\n",
       "    </tr>\n",
       "    <tr>\n",
       "      <th>75%</th>\n",
       "      <td>87.750000</td>\n",
       "      <td>718.250000</td>\n",
       "      <td>5570.000000</td>\n",
       "      <td>1451.500000</td>\n",
       "      <td>288.750000</td>\n",
       "      <td>39.000000</td>\n",
       "      <td>177.000000</td>\n",
       "      <td>501.250000</td>\n",
       "      <td>1311.50000</td>\n",
       "      <td>96.500000</td>\n",
       "      <td>732.500000</td>\n",
       "      <td>679.250000</td>\n",
       "      <td>4.220000</td>\n",
       "      <td>5.750000</td>\n",
       "      <td>13.000000</td>\n",
       "      <td>46.750000</td>\n",
       "      <td>96.750000</td>\n",
       "    </tr>\n",
       "    <tr>\n",
       "      <th>max</th>\n",
       "      <td>100.000000</td>\n",
       "      <td>891.000000</td>\n",
       "      <td>5649.000000</td>\n",
       "      <td>1515.000000</td>\n",
       "      <td>308.000000</td>\n",
       "      <td>49.000000</td>\n",
       "      <td>232.000000</td>\n",
       "      <td>570.000000</td>\n",
       "      <td>1518.00000</td>\n",
       "      <td>134.000000</td>\n",
       "      <td>844.000000</td>\n",
       "      <td>799.000000</td>\n",
       "      <td>5.040000</td>\n",
       "      <td>11.000000</td>\n",
       "      <td>21.000000</td>\n",
       "      <td>62.000000</td>\n",
       "      <td>126.000000</td>\n",
       "    </tr>\n",
       "  </tbody>\n",
       "</table>\n",
       "</div>"
      ],
      "text/plain": [
       "                W           R           AB            H          2B  \\\n",
       "count   30.000000   30.000000    30.000000    30.000000   30.000000   \n",
       "mean    80.966667  688.233333  5516.266667  1403.533333  274.733333   \n",
       "std     10.453455   58.761754    70.467372    57.140923   18.095405   \n",
       "min     63.000000  573.000000  5385.000000  1324.000000  236.000000   \n",
       "25%     74.000000  651.250000  5464.000000  1363.000000  262.250000   \n",
       "50%     81.000000  689.000000  5510.000000  1382.500000  275.500000   \n",
       "75%     87.750000  718.250000  5570.000000  1451.500000  288.750000   \n",
       "max    100.000000  891.000000  5649.000000  1515.000000  308.000000   \n",
       "\n",
       "              3B          HR          BB          SO          SB          RA  \\\n",
       "count  30.000000   30.000000   30.000000    30.00000   30.000000   30.000000   \n",
       "mean   31.300000  163.633333  469.100000  1248.20000   83.500000  688.233333   \n",
       "std    10.452355   31.823309   57.053725   103.75947   22.815225   72.108005   \n",
       "min    13.000000  100.000000  375.000000   973.00000   44.000000  525.000000   \n",
       "25%    23.000000  140.250000  428.250000  1157.50000   69.000000  636.250000   \n",
       "50%    31.000000  158.500000  473.000000  1261.50000   83.500000  695.500000   \n",
       "75%    39.000000  177.000000  501.250000  1311.50000   96.500000  732.500000   \n",
       "max    49.000000  232.000000  570.000000  1518.00000  134.000000  844.000000   \n",
       "\n",
       "               ER        ERA         CG        SHO         SV           E  \n",
       "count   30.000000  30.000000  30.000000  30.000000  30.000000   30.000000  \n",
       "mean   635.833333   3.956333   3.466667  11.300000  43.066667   94.333333  \n",
       "std     70.140786   0.454089   2.763473   4.120177   7.869335   13.958889  \n",
       "min    478.000000   2.940000   0.000000   4.000000  28.000000   75.000000  \n",
       "25%    587.250000   3.682500   1.000000   9.000000  37.250000   86.000000  \n",
       "50%    644.500000   4.025000   3.000000  12.000000  42.000000   91.000000  \n",
       "75%    679.250000   4.220000   5.750000  13.000000  46.750000   96.750000  \n",
       "max    799.000000   5.040000  11.000000  21.000000  62.000000  126.000000  "
      ]
     },
     "execution_count": 8,
     "metadata": {},
     "output_type": "execute_result"
    }
   ],
   "source": [
    "data.describe()"
   ]
  },
  {
   "cell_type": "markdown",
   "id": "2af31c3e",
   "metadata": {},
   "source": [
    "Documentation:-\n",
    "    \n",
    "1. Here I can see that there no null - values in the columns which I can see in the row \"Count\"\n",
    "\n",
    "2. Also All the columns are having good difference between \"mean and std\" but a column \"CG\" is having low difference between mean and std ."
   ]
  },
  {
   "cell_type": "code",
   "execution_count": 10,
   "id": "674028aa",
   "metadata": {},
   "outputs": [
    {
     "data": {
      "text/plain": [
       "W      0\n",
       "R      0\n",
       "AB     0\n",
       "H      0\n",
       "2B     0\n",
       "3B     0\n",
       "HR     0\n",
       "BB     0\n",
       "SO     0\n",
       "SB     0\n",
       "RA     0\n",
       "ER     0\n",
       "ERA    0\n",
       "CG     0\n",
       "SHO    0\n",
       "SV     0\n",
       "E      0\n",
       "dtype: int64"
      ]
     },
     "execution_count": 10,
     "metadata": {},
     "output_type": "execute_result"
    }
   ],
   "source": [
    "data.isnull().sum()"
   ]
  },
  {
   "cell_type": "code",
   "execution_count": 11,
   "id": "2be1a068",
   "metadata": {},
   "outputs": [
    {
     "data": {
      "text/plain": [
       "0"
      ]
     },
     "execution_count": 11,
     "metadata": {},
     "output_type": "execute_result"
    }
   ],
   "source": [
    "data.isnull().sum().sum()"
   ]
  },
  {
   "cell_type": "markdown",
   "id": "d8dce615",
   "metadata": {},
   "source": [
    "# Finding null/missing values if any:"
   ]
  },
  {
   "cell_type": "code",
   "execution_count": 12,
   "id": "487c4e6f",
   "metadata": {},
   "outputs": [
    {
     "data": {
      "text/plain": [
       "False"
      ]
     },
     "execution_count": 12,
     "metadata": {},
     "output_type": "execute_result"
    }
   ],
   "source": [
    "data.isnull().values.any()"
   ]
  },
  {
   "cell_type": "markdown",
   "id": "5fce357d",
   "metadata": {},
   "source": [
    "Documentation:-\n",
    "\n",
    "Here I can see that there are also no missing values."
   ]
  },
  {
   "cell_type": "markdown",
   "id": "e448a226",
   "metadata": {},
   "source": [
    "# Plotting Heatmap fpr the Null Values : "
   ]
  },
  {
   "cell_type": "code",
   "execution_count": 13,
   "id": "87aef194",
   "metadata": {},
   "outputs": [
    {
     "data": {
      "image/png": "[encoded data removed]",
      "text/plain": [
       "<Figure size 432x288 with 2 Axes>"
      ]
     },
     "metadata": {
      "needs_background": "light"
     },
     "output_type": "display_data"
    }
   ],
   "source": [
    "sns.heatmap(data.isnull())\n",
    "plt.title(\"Null Values\")\n",
    "plt.show()"
   ]
  },
  {
   "cell_type": "markdown",
   "id": "0f80c34b",
   "metadata": {},
   "source": [
    "Documentation:-\n",
    "\n",
    "I can see that there are no null - values can be seen in visualization."
   ]
  },
  {
   "cell_type": "markdown",
   "id": "4f8e1e62",
   "metadata": {},
   "source": [
    "# Exploratory Data Analysis(EDA):"
   ]
  },
  {
   "cell_type": "markdown",
   "id": "695bd6d5",
   "metadata": {},
   "source": [
    "## Checking the correlation of the variables by plotting Heatmap:"
   ]
  },
  {
   "cell_type": "code",
   "execution_count": 14,
   "id": "1ca272e3",
   "metadata": {},
   "outputs": [],
   "source": [
    "correlation = data.corr()"
   ]
  },
  {
   "cell_type": "code",
   "execution_count": 16,
   "id": "b63fff3c",
   "metadata": {},
   "outputs": [
    {
     "data": {
      "image/png": "[encoded data removed]",
      "text/plain": [
       "<Figure size 2160x1440 with 2 Axes>"
      ]
     },
     "metadata": {
      "needs_background": "light"
     },
     "output_type": "display_data"
    }
   ],
   "source": [
    "plt.figure(figsize =(30,20))\n",
    "sns.heatmap(correlation,annot = True,fmt = \".0%\",cbar = True,square = True,annot_kws = {'size': 10}, cmap = 'Greens')\n",
    "plt.show()"
   ]
  },
  {
   "cell_type": "markdown",
   "id": "92eb798e",
   "metadata": {},
   "source": [
    "Documentation:-\n",
    "\n",
    "I can see that there is high correlation between \"ER and RA\",\"ERA and RA\" and the next highest correlation is in between \"AB and H\". "
   ]
  },
  {
   "cell_type": "code",
   "execution_count": 23,
   "id": "b91e0f28",
   "metadata": {},
   "outputs": [
    {
     "data": {
      "image/png": "[encoded data removed]",
      "text/plain": [
       "<Figure size 1584x504 with 1 Axes>"
      ]
     },
     "metadata": {
      "needs_background": "light"
     },
     "output_type": "display_data"
    }
   ],
   "source": [
    "plt.figure(figsize=(22,7))\n",
    "correlation['W'].sort_values(ascending=False).drop(['W']).plot(kind='bar',color='c')\n",
    "plt.xlabel('Feature',fontsize=14)\n",
    "plt.ylabel('column with target names',fontsize=14)\n",
    "plt.title('correlation',fontsize=18)\n",
    "plt.show()"
   ]
  },
  {
   "cell_type": "markdown",
   "id": "31853030",
   "metadata": {},
   "source": [
    "Documentation:-\n",
    "    \n",
    "1. Here I can see that almost same correlation exists between \"ER\",\"RA\",\"ERA\".\n",
    "2. I can see that very low correlation exists in \"H\"."
   ]
  },
  {
   "cell_type": "markdown",
   "id": "e3b1c48e",
   "metadata": {},
   "source": [
    "# Visualization of the data:"
   ]
  },
  {
   "cell_type": "markdown",
   "id": "8b096beb",
   "metadata": {},
   "source": [
    "## Univariate Analysis:"
   ]
  },
  {
   "cell_type": "code",
   "execution_count": 24,
   "id": "0229f8e1",
   "metadata": {},
   "outputs": [
    {
     "data": {
      "text/plain": [
       "Index(['W', 'R', 'AB', 'H', '2B', '3B', 'HR', 'BB', 'SO', 'SB', 'RA', 'ER',\n",
       "       'ERA', 'CG', 'SHO', 'SV', 'E'],\n",
       "      dtype='object')"
      ]
     },
     "execution_count": 24,
     "metadata": {},
     "output_type": "execute_result"
    }
   ],
   "source": [
    "data.columns"
   ]
  },
  {
   "cell_type": "markdown",
   "id": "f4c47634",
   "metadata": {},
   "source": [
    "# R - \"Runs\":"
   ]
  },
  {
   "cell_type": "code",
   "execution_count": 26,
   "id": "c0917e47",
   "metadata": {},
   "outputs": [
    {
     "data": {
      "image/png": "[encoded data removed]",
      "text/plain": [
       "<Figure size 864x576 with 3 Axes>"
      ]
     },
     "metadata": {
      "needs_background": "light"
     },
     "output_type": "display_data"
    }
   ],
   "source": [
    "plt.figure(figsize=(12,8))\n",
    "plt.subplot(2,2,1)\n",
    "sns.distplot(data['R'], kde=False, bins=range(0, 1000, 20));\n",
    "plt.subplot(2,2,2)\n",
    "sns.boxplot(data['R']);\n",
    "plt.subplot(2,2,3)\n",
    "sns.distplot(data['R']);"
   ]
  },
  {
   "cell_type": "markdown",
   "id": "54c2ccd4",
   "metadata": {},
   "source": [
    "Documentation:-\n",
    "    \n",
    "1. Here I can see that there is an outlier which can be seen in the boxplot and is very far from max-quantile range and so probably it has no affect on our model building.\n",
    "\n",
    "2. I can see that the distribution curve is skewed towards right and bell-shaped curve also can be seen."
   ]
  },
  {
   "cell_type": "markdown",
   "id": "6141f90c",
   "metadata": {},
   "source": [
    "# AB - \"At Bats\":"
   ]
  },
  {
   "cell_type": "code",
   "execution_count": 28,
   "id": "0d44e6b2",
   "metadata": {},
   "outputs": [
    {
     "data": {
      "image/png": "[encoded data removed]",
      "text/plain": [
       "<Figure size 864x576 with 3 Axes>"
      ]
     },
     "metadata": {
      "needs_background": "light"
     },
     "output_type": "display_data"
    }
   ],
   "source": [
    "plt.figure(figsize=(12,8))\n",
    "plt.subplot(2,2,1)\n",
    "sns.distplot(data['AB'], kde=False, bins=range(0, 5700, 25));\n",
    "plt.subplot(2,2,2)\n",
    "sns.boxplot(data['AB']);\n",
    "plt.subplot(2,2,3)\n",
    "sns.distplot(data['AB']);"
   ]
  },
  {
   "cell_type": "markdown",
   "id": "8d0958f0",
   "metadata": {},
   "source": [
    "Documentation:-\n",
    "    \n",
    "1. Here I can see that there are no outliers present or can be seen in boxplot.\n",
    "\n",
    "2. I can see that there is no such skewness can be seen in the distribution curve."
   ]
  },
  {
   "cell_type": "markdown",
   "id": "371a3df0",
   "metadata": {},
   "source": [
    "# H - \"Hits\":"
   ]
  },
  {
   "cell_type": "code",
   "execution_count": 31,
   "id": "ad5dd892",
   "metadata": {},
   "outputs": [
    {
     "data": {
      "image/png": "[encoded data removed]",
      "text/plain": [
       "<Figure size 864x576 with 3 Axes>"
      ]
     },
     "metadata": {
      "needs_background": "light"
     },
     "output_type": "display_data"
    }
   ],
   "source": [
    "plt.figure(figsize=(12,8))\n",
    "plt.subplot(2,2,1)\n",
    "sns.distplot(data['H'], kde=False, bins=range(0, 1600, 25));\n",
    "plt.subplot(2,2,2)\n",
    "sns.boxplot(data['H']);\n",
    "plt.subplot(2,2,3)\n",
    "sns.distplot(data['H']);"
   ]
  },
  {
   "cell_type": "markdown",
   "id": "22862a55",
   "metadata": {},
   "source": [
    "Documentation:-\n",
    "    \n",
    "1. Here I can see that there are no outliers which can be seen in boxplot.\n",
    "\n",
    "2. I can see that the distribution curve is not at all distributed normally."
   ]
  },
  {
   "cell_type": "markdown",
   "id": "3e668ce3",
   "metadata": {},
   "source": [
    "# 2B - \"Doubles\":"
   ]
  },
  {
   "cell_type": "code",
   "execution_count": 33,
   "id": "c7ea66e5",
   "metadata": {},
   "outputs": [
    {
     "data": {
      "image/png": "[encoded data removed]",
      "text/plain": [
       "<Figure size 864x576 with 3 Axes>"
      ]
     },
     "metadata": {
      "needs_background": "light"
     },
     "output_type": "display_data"
    }
   ],
   "source": [
    "plt.figure(figsize=(12,8))\n",
    "plt.subplot(2,2,1)\n",
    "sns.distplot(data['2B'], kde=False, bins=range(0,340, 25));\n",
    "plt.subplot(2,2,2)\n",
    "sns.boxplot(data['2B']);\n",
    "plt.subplot(2,2,3)\n",
    "sns.distplot(data['2B']);"
   ]
  },
  {
   "cell_type": "markdown",
   "id": "98fd7fbf",
   "metadata": {},
   "source": [
    "Documentation:-\n",
    "    \n",
    "1. Here I can see that there are no outliers present or can be seen in the boxplot\n",
    "2. Also the distribution curve seems to be normally distributed."
   ]
  },
  {
   "cell_type": "markdown",
   "id": "72f84049",
   "metadata": {},
   "source": [
    "# 3B - \"Triples\":"
   ]
  },
  {
   "cell_type": "code",
   "execution_count": 35,
   "id": "73489fcb",
   "metadata": {},
   "outputs": [
    {
     "data": {
      "image/png": "[encoded data removed]",
      "text/plain": [
       "<Figure size 864x576 with 3 Axes>"
      ]
     },
     "metadata": {
      "needs_background": "light"
     },
     "output_type": "display_data"
    }
   ],
   "source": [
    "plt.figure(figsize=(12,8))\n",
    "plt.subplot(2,2,1)\n",
    "sns.distplot(data['3B'], kde=False, bins=range(0, 60, 2));\n",
    "plt.subplot(2,2,2)\n",
    "sns.boxplot(data['3B']);\n",
    "plt.subplot(2,2,3)\n",
    "sns.distplot(data['3B']);"
   ]
  },
  {
   "cell_type": "markdown",
   "id": "5c3b5031",
   "metadata": {},
   "source": [
    "Documentation:-\n",
    "    \n",
    "1. Here I can see that there are no outliers present or can be seen in the boxplot\n",
    "2. Also the distribution curve seems to be normally distributed."
   ]
  },
  {
   "cell_type": "markdown",
   "id": "234eefc6",
   "metadata": {},
   "source": [
    "# HR - \"Homeruns\":"
   ]
  },
  {
   "cell_type": "code",
   "execution_count": 37,
   "id": "81710c73",
   "metadata": {},
   "outputs": [
    {
     "data": {
      "image/png": "[encoded data removed]",
      "text/plain": [
       "<Figure size 864x576 with 3 Axes>"
      ]
     },
     "metadata": {
      "needs_background": "light"
     },
     "output_type": "display_data"
    }
   ],
   "source": [
    "plt.figure(figsize=(12,8))\n",
    "plt.subplot(2,2,1)\n",
    "sns.distplot(data['HR'], kde=False, bins=range(0, 250, 10));\n",
    "plt.subplot(2,2,2)\n",
    "sns.boxplot(data['HR']);\n",
    "plt.subplot(2,2,3)\n",
    "sns.distplot(data['HR']);"
   ]
  },
  {
   "cell_type": "markdown",
   "id": "da41f27f",
   "metadata": {},
   "source": [
    "Documentation:-\n",
    "    \n",
    "1) Here I can see that there are no outliers present or can be seen in the boxplot.\n",
    "\n",
    "2) Also the distribution curve can be seen skewed somewhat to the right side."
   ]
  },
  {
   "cell_type": "markdown",
   "id": "7bf87e4d",
   "metadata": {},
   "source": [
    "# BB - \"Base on balls\" or \"Walks\":"
   ]
  },
  {
   "cell_type": "code",
   "execution_count": 39,
   "id": "fe1b0d23",
   "metadata": {},
   "outputs": [
    {
     "data": {
      "image/png": "[encoded data removed]",
      "text/plain": [
       "<Figure size 864x576 with 3 Axes>"
      ]
     },
     "metadata": {
      "needs_background": "light"
     },
     "output_type": "display_data"
    }
   ],
   "source": [
    "plt.figure(figsize=(12,8))\n",
    "plt.subplot(2,2,1)\n",
    "sns.distplot(data['BB'], kde=False, bins=range(0, 650, 20));\n",
    "plt.subplot(2,2,2)\n",
    "sns.boxplot(data['BB']);\n",
    "plt.subplot(2,2,3)\n",
    "sns.distplot(data['BB']);"
   ]
  },
  {
   "cell_type": "markdown",
   "id": "86343aa9",
   "metadata": {},
   "source": [
    "Documentation:-\n",
    "    \n",
    "1) Here I can see that there are no outliers present or can be seen in the boxplot\n",
    "\n",
    "2) Also the distribution curve seems to be normally distributed."
   ]
  },
  {
   "cell_type": "markdown",
   "id": "d152b374",
   "metadata": {},
   "source": [
    "# SO - \"StrikeOuts\":"
   ]
  },
  {
   "cell_type": "code",
   "execution_count": 40,
   "id": "7b4c9af9",
   "metadata": {},
   "outputs": [
    {
     "data": {
      "image/png": "[encoded data removed]",
      "text/plain": [
       "<Figure size 864x576 with 3 Axes>"
      ]
     },
     "metadata": {
      "needs_background": "light"
     },
     "output_type": "display_data"
    }
   ],
   "source": [
    "plt.figure(figsize=(12,8))\n",
    "plt.subplot(2,2,1)\n",
    "sns.distplot(data['SO'], kde=False, bins=range(0, 1500, 20));\n",
    "plt.subplot(2,2,2)\n",
    "sns.boxplot(data['SO']);\n",
    "plt.subplot(2,2,3)\n",
    "sns.distplot(data['SO']);"
   ]
  },
  {
   "cell_type": "markdown",
   "id": "b789de00",
   "metadata": {},
   "source": [
    "Documentation:-\n",
    "    \n",
    "1) Here I can see that there are no outliers can be in the boxplot.\n",
    "\n",
    "2) Also can be seen that the distribution curve is not at all distributed normally."
   ]
  },
  {
   "cell_type": "markdown",
   "id": "92ef5832",
   "metadata": {},
   "source": [
    "# SB - \"Stolen Bases\":"
   ]
  },
  {
   "cell_type": "code",
   "execution_count": 43,
   "id": "cc599865",
   "metadata": {},
   "outputs": [
    {
     "data": {
      "image/png": "[encoded data removed]",
      "text/plain": [
       "<Figure size 864x576 with 3 Axes>"
      ]
     },
     "metadata": {
      "needs_background": "light"
     },
     "output_type": "display_data"
    }
   ],
   "source": [
    "plt.figure(figsize=(12,8))\n",
    "plt.subplot(2,2,1)\n",
    "sns.distplot(data['SB'], kde=False, bins=range(0, 160, 10));\n",
    "plt.subplot(2,2,2)\n",
    "sns.boxplot(data['SB']);\n",
    "plt.subplot(2,2,3)\n",
    "sns.distplot(data['SB']);"
   ]
  },
  {
   "cell_type": "markdown",
   "id": "1d2e467a",
   "metadata": {},
   "source": [
    "Documentation:-\n",
    "    \n",
    "1) Here I can see there are no outliers present or can be seen in the boxplot.\n",
    "\n",
    "2) Also can be seen that the distribution curve is somewhat skewed."
   ]
  },
  {
   "cell_type": "markdown",
   "id": "d602c824",
   "metadata": {},
   "source": [
    "# RA - \"Runs Allowed\": "
   ]
  },
  {
   "cell_type": "code",
   "execution_count": 44,
   "id": "42f6dcb3",
   "metadata": {},
   "outputs": [
    {
     "data": {
      "image/png": "[encoded data removed]",
      "text/plain": [
       "<Figure size 864x576 with 3 Axes>"
      ]
     },
     "metadata": {
      "needs_background": "light"
     },
     "output_type": "display_data"
    }
   ],
   "source": [
    "plt.figure(figsize=(12,8))\n",
    "plt.subplot(2,2,1)\n",
    "sns.distplot(data['RA'], kde=False, bins=range(0, 1000, 50));\n",
    "plt.subplot(2,2,2)\n",
    "sns.boxplot(data['RA']);\n",
    "plt.subplot(2,2,3)\n",
    "sns.distplot(data['RA']);"
   ]
  },
  {
   "cell_type": "markdown",
   "id": "0c17c674",
   "metadata": {},
   "source": [
    "Documentation:-\n",
    "    \n",
    "1) Here I can see that there are no outliers which can be seen in boxplot.\n",
    "\n",
    "2) Also I can see that the distribution curve is probably distributed  normally but with less broad peak."
   ]
  },
  {
   "cell_type": "markdown",
   "id": "155fa090",
   "metadata": {},
   "source": [
    "# ER - \"Earned Runs\":"
   ]
  },
  {
   "cell_type": "code",
   "execution_count": 46,
   "id": "9e8a7425",
   "metadata": {},
   "outputs": [
    {
     "data": {
      "image/png": "[encoded data removed]",
      "text/plain": [
       "<Figure size 864x576 with 3 Axes>"
      ]
     },
     "metadata": {
      "needs_background": "light"
     },
     "output_type": "display_data"
    }
   ],
   "source": [
    "plt.figure(figsize=(12,8))\n",
    "plt.subplot(2,2,1)\n",
    "sns.distplot(data['ER'], kde=False, bins=range(0, 900, 50));\n",
    "plt.subplot(2,2,2)\n",
    "sns.boxplot(data['ER']);\n",
    "plt.subplot(2,2,3)\n",
    "sns.distplot(data['ER']);"
   ]
  },
  {
   "cell_type": "markdown",
   "id": "d7124bf5",
   "metadata": {},
   "source": [
    "Documentation:-\n",
    "\n",
    "Here I can see that there are no outliers present in the boxplot and also we can see that the distribution curve seems to be same as \"RA\"."
   ]
  },
  {
   "cell_type": "markdown",
   "id": "49e2efc2",
   "metadata": {},
   "source": [
    "# ERA - \"Earned Run Average\":"
   ]
  },
  {
   "cell_type": "code",
   "execution_count": 48,
   "id": "48beecb4",
   "metadata": {},
   "outputs": [
    {
     "data": {
      "image/png": "[encoded data removed]",
      "text/plain": [
       "<Figure size 864x576 with 3 Axes>"
      ]
     },
     "metadata": {
      "needs_background": "light"
     },
     "output_type": "display_data"
    }
   ],
   "source": [
    "plt.figure(figsize=(12,8))\n",
    "plt.subplot(2,2,1)\n",
    "sns.distplot(data['ERA'], kde=False, bins=range(0, 10, 1));\n",
    "plt.subplot(2,2,2)\n",
    "sns.boxplot(data['ERA']);\n",
    "plt.subplot(2,2,3)\n",
    "sns.distplot(data['ERA']);"
   ]
  },
  {
   "cell_type": "markdown",
   "id": "80ff729e",
   "metadata": {},
   "source": [
    "Documentation:-\n",
    "\n",
    "Here I can see that there is an outlier present or can be seen in boxplot same as \"R\"  and also the distribution curve is distributed normally but the peak is not at all broad."
   ]
  },
  {
   "cell_type": "markdown",
   "id": "11c04ac4",
   "metadata": {},
   "source": [
    "# CG - \"Complete Games\":"
   ]
  },
  {
   "cell_type": "code",
   "execution_count": 49,
   "id": "95a3d294",
   "metadata": {},
   "outputs": [
    {
     "data": {
      "image/png": "[encoded data removed]",
      "text/plain": [
       "<Figure size 864x576 with 3 Axes>"
      ]
     },
     "metadata": {
      "needs_background": "light"
     },
     "output_type": "display_data"
    }
   ],
   "source": [
    "plt.figure(figsize=(12,8))\n",
    "plt.subplot(2,2,1)\n",
    "sns.distplot(data['CG'], kde=False, bins=range(0, 20, 1));\n",
    "plt.subplot(2,2,2)\n",
    "sns.boxplot(data['CG']);\n",
    "plt.subplot(2,2,3)\n",
    "sns.distplot(data['CG']);"
   ]
  },
  {
   "cell_type": "markdown",
   "id": "538d6a78",
   "metadata": {},
   "source": [
    "Documentation:-\n",
    "    \n",
    "Here we can see that there are no outliers can be seen in boxplot and also we can see that the distribution curve is not at all normally distributed."
   ]
  },
  {
   "cell_type": "markdown",
   "id": "d1bfeed4",
   "metadata": {},
   "source": [
    "# SHO - \"Shutouts\":"
   ]
  },
  {
   "cell_type": "code",
   "execution_count": 51,
   "id": "87bf0f67",
   "metadata": {},
   "outputs": [
    {
     "data": {
      "image/png": "[encoded data removed]",
      "text/plain": [
       "<Figure size 864x576 with 3 Axes>"
      ]
     },
     "metadata": {
      "needs_background": "light"
     },
     "output_type": "display_data"
    }
   ],
   "source": [
    "plt.figure(figsize=(12,8))\n",
    "plt.subplot(2,2,1)\n",
    "sns.distplot(data['SHO'], kde=False, bins=range(0, 25, 1));\n",
    "plt.subplot(2,2,2)\n",
    "sns.boxplot(data['SHO']);\n",
    "plt.subplot(2,2,3)\n",
    "sns.distplot(data['SHO']);"
   ]
  },
  {
   "cell_type": "markdown",
   "id": "c618eaa4",
   "metadata": {},
   "source": [
    "Documentation:-\n",
    "    \n",
    "Here we can see that there is an outlier present in the boxplot same as R and ERA but is very far away from max-qu--artile and the distribution curve seems to be skewed slightly towards rightside."
   ]
  },
  {
   "cell_type": "markdown",
   "id": "53757be4",
   "metadata": {},
   "source": [
    "# SV - \"Saves\":"
   ]
  },
  {
   "cell_type": "code",
   "execution_count": 52,
   "id": "dce3bd87",
   "metadata": {},
   "outputs": [
    {
     "data": {
      "image/png": "[encoded data removed]",
      "text/plain": [
       "<Figure size 864x576 with 3 Axes>"
      ]
     },
     "metadata": {
      "needs_background": "light"
     },
     "output_type": "display_data"
    }
   ],
   "source": [
    "plt.figure(figsize=(12,8))\n",
    "plt.subplot(2,2,1)\n",
    "sns.distplot(data['SV'], kde=False, bins=range(0, 70, 5));\n",
    "plt.subplot(2,2,2)\n",
    "sns.boxplot(data['SV']);\n",
    "plt.subplot(2,2,3)\n",
    "sns.distplot(data['SV']);"
   ]
  },
  {
   "cell_type": "markdown",
   "id": "e9bed2cb",
   "metadata": {},
   "source": [
    "Documentation:-\n",
    "    \n",
    "Here we can see that there is an outlier present which is seen near to the max-quartle and the distribution curve is skewed somewhat towards right."
   ]
  },
  {
   "cell_type": "markdown",
   "id": "b58507a2",
   "metadata": {},
   "source": [
    "# E - \"Errors\":"
   ]
  },
  {
   "cell_type": "code",
   "execution_count": 53,
   "id": "97f1bc96",
   "metadata": {},
   "outputs": [
    {
     "data": {
      "image/png": "[encoded data removed]",
      "text/plain": [
       "<Figure size 864x576 with 3 Axes>"
      ]
     },
     "metadata": {
      "needs_background": "light"
     },
     "output_type": "display_data"
    }
   ],
   "source": [
    "plt.figure(figsize=(12,8))\n",
    "plt.subplot(2,2,1)\n",
    "sns.distplot(data['E'], kde=False, bins=range(0, 150, 10));\n",
    "plt.subplot(2,2,2)\n",
    "sns.boxplot(data['E']);\n",
    "plt.subplot(2,2,3)\n",
    "sns.distplot(data['E']);"
   ]
  },
  {
   "cell_type": "markdown",
   "id": "fdd5f6bb",
   "metadata": {},
   "source": [
    "Documentation:-\n",
    "    \n",
    "Here we can see that there are outliers present in the boxplot and are near to max-quartle and the distribution curve is not at all skewed and probably these outliers may effect our model building."
   ]
  },
  {
   "cell_type": "markdown",
   "id": "8a19c880",
   "metadata": {},
   "source": [
    "Documentation:- Here we can see that the columns \"R\",\"RA\",\"ERA\",\"SV\",\"E\" and the major outliers which has possibility to affect our model building is \"E\" and the outliers of the other columns are far enough from the max-quartile and there is very chance chance of their effect on our model building."
   ]
  },
  {
   "cell_type": "markdown",
   "id": "6d9d1c1f",
   "metadata": {},
   "source": [
    "Here we have plotted the graphs and alsodetedted the outliers present and so now we will treat the outliers in the column \"E\"."
   ]
  },
  {
   "cell_type": "markdown",
   "id": "eec10b35",
   "metadata": {},
   "source": [
    "# Removal of outliers through \"Z - Score - Method\": "
   ]
  },
  {
   "cell_type": "code",
   "execution_count": 54,
   "id": "a1e72e9e",
   "metadata": {},
   "outputs": [
    {
     "data": {
      "text/plain": [
       "(30, 17)"
      ]
     },
     "execution_count": 54,
     "metadata": {},
     "output_type": "execute_result"
    }
   ],
   "source": [
    "from scipy.stats import zscore\n",
    "z = np.abs(zscore(data))\n",
    "z.shape"
   ]
  },
  {
   "cell_type": "code",
   "execution_count": 55,
   "id": "e796bab6",
   "metadata": {},
   "outputs": [
    {
     "name": "stdout",
     "output_type": "stream",
     "text": [
      "(array([5], dtype=int64), array([1], dtype=int64))\n"
     ]
    }
   ],
   "source": [
    "threshold = 3\n",
    "print(np.where(z>3))"
   ]
  },
  {
   "cell_type": "code",
   "execution_count": 57,
   "id": "a3b8a382",
   "metadata": {},
   "outputs": [
    {
     "name": "stdout",
     "output_type": "stream",
     "text": [
      "(30, 17)\n",
      "(29, 17)\n"
     ]
    }
   ],
   "source": [
    "data_new = data[(z<3).all(axis = 1)]\n",
    "print(data.shape)\n",
    "print(data_new.shape)"
   ]
  },
  {
   "cell_type": "markdown",
   "id": "bb5db466",
   "metadata": {},
   "source": [
    "Documentation:-\n",
    "\n",
    "Here we can see that there is reduce in the number of total records(rows) and so there is reduce in the data."
   ]
  },
  {
   "cell_type": "markdown",
   "id": "f33b9586",
   "metadata": {},
   "source": [
    "# Loss Percentage Calculation:"
   ]
  },
  {
   "cell_type": "code",
   "execution_count": 58,
   "id": "72988f61",
   "metadata": {},
   "outputs": [
    {
     "name": "stdout",
     "output_type": "stream",
     "text": [
      "3.3333333333333335\n"
     ]
    }
   ],
   "source": [
    "loss_percent = (30-29)/30*100\n",
    "print(loss_percent)"
   ]
  },
  {
   "cell_type": "markdown",
   "id": "0ed8cb9c",
   "metadata": {},
   "source": [
    "Documentation:-\n",
    "    \n",
    "Here we can see that there is loss of 3.3% of the data , so it is negligible."
   ]
  },
  {
   "cell_type": "code",
   "execution_count": 60,
   "id": "e19bbe86",
   "metadata": {},
   "outputs": [
    {
     "data": {
      "text/html": [
       "<div>\n",
       "<style scoped>\n",
       "    .dataframe tbody tr th:only-of-type {\n",
       "        vertical-align: middle;\n",
       "    }\n",
       "\n",
       "    .dataframe tbody tr th {\n",
       "        vertical-align: top;\n",
       "    }\n",
       "\n",
       "    .dataframe thead th {\n",
       "        text-align: right;\n",
       "    }\n",
       "</style>\n",
       "<table border=\"1\" class=\"dataframe\">\n",
       "  <thead>\n",
       "    <tr style=\"text-align: right;\">\n",
       "      <th></th>\n",
       "      <th>W</th>\n",
       "      <th>R</th>\n",
       "      <th>AB</th>\n",
       "      <th>H</th>\n",
       "      <th>2B</th>\n",
       "      <th>3B</th>\n",
       "      <th>HR</th>\n",
       "      <th>BB</th>\n",
       "      <th>SO</th>\n",
       "      <th>SB</th>\n",
       "      <th>RA</th>\n",
       "      <th>ER</th>\n",
       "      <th>ERA</th>\n",
       "      <th>CG</th>\n",
       "      <th>SHO</th>\n",
       "      <th>SV</th>\n",
       "      <th>E</th>\n",
       "    </tr>\n",
       "  </thead>\n",
       "  <tbody>\n",
       "    <tr>\n",
       "      <th>25</th>\n",
       "      <td>92</td>\n",
       "      <td>667</td>\n",
       "      <td>5385</td>\n",
       "      <td>1346</td>\n",
       "      <td>263</td>\n",
       "      <td>26</td>\n",
       "      <td>187</td>\n",
       "      <td>563</td>\n",
       "      <td>1258</td>\n",
       "      <td>59</td>\n",
       "      <td>595</td>\n",
       "      <td>553</td>\n",
       "      <td>3.44</td>\n",
       "      <td>6</td>\n",
       "      <td>21</td>\n",
       "      <td>47</td>\n",
       "      <td>75</td>\n",
       "    </tr>\n",
       "    <tr>\n",
       "      <th>26</th>\n",
       "      <td>84</td>\n",
       "      <td>696</td>\n",
       "      <td>5565</td>\n",
       "      <td>1486</td>\n",
       "      <td>288</td>\n",
       "      <td>39</td>\n",
       "      <td>136</td>\n",
       "      <td>457</td>\n",
       "      <td>1159</td>\n",
       "      <td>93</td>\n",
       "      <td>627</td>\n",
       "      <td>597</td>\n",
       "      <td>3.72</td>\n",
       "      <td>7</td>\n",
       "      <td>18</td>\n",
       "      <td>41</td>\n",
       "      <td>78</td>\n",
       "    </tr>\n",
       "    <tr>\n",
       "      <th>27</th>\n",
       "      <td>79</td>\n",
       "      <td>720</td>\n",
       "      <td>5649</td>\n",
       "      <td>1494</td>\n",
       "      <td>289</td>\n",
       "      <td>48</td>\n",
       "      <td>154</td>\n",
       "      <td>490</td>\n",
       "      <td>1312</td>\n",
       "      <td>132</td>\n",
       "      <td>713</td>\n",
       "      <td>659</td>\n",
       "      <td>4.04</td>\n",
       "      <td>1</td>\n",
       "      <td>12</td>\n",
       "      <td>44</td>\n",
       "      <td>86</td>\n",
       "    </tr>\n",
       "    <tr>\n",
       "      <th>28</th>\n",
       "      <td>74</td>\n",
       "      <td>650</td>\n",
       "      <td>5457</td>\n",
       "      <td>1324</td>\n",
       "      <td>260</td>\n",
       "      <td>36</td>\n",
       "      <td>148</td>\n",
       "      <td>426</td>\n",
       "      <td>1327</td>\n",
       "      <td>82</td>\n",
       "      <td>731</td>\n",
       "      <td>655</td>\n",
       "      <td>4.09</td>\n",
       "      <td>1</td>\n",
       "      <td>6</td>\n",
       "      <td>41</td>\n",
       "      <td>92</td>\n",
       "    </tr>\n",
       "    <tr>\n",
       "      <th>29</th>\n",
       "      <td>68</td>\n",
       "      <td>737</td>\n",
       "      <td>5572</td>\n",
       "      <td>1479</td>\n",
       "      <td>274</td>\n",
       "      <td>49</td>\n",
       "      <td>186</td>\n",
       "      <td>388</td>\n",
       "      <td>1283</td>\n",
       "      <td>97</td>\n",
       "      <td>844</td>\n",
       "      <td>799</td>\n",
       "      <td>5.04</td>\n",
       "      <td>4</td>\n",
       "      <td>4</td>\n",
       "      <td>36</td>\n",
       "      <td>95</td>\n",
       "    </tr>\n",
       "  </tbody>\n",
       "</table>\n",
       "</div>"
      ],
      "text/plain": [
       "     W    R    AB     H   2B  3B   HR   BB    SO   SB   RA   ER   ERA  CG  \\\n",
       "25  92  667  5385  1346  263  26  187  563  1258   59  595  553  3.44   6   \n",
       "26  84  696  5565  1486  288  39  136  457  1159   93  627  597  3.72   7   \n",
       "27  79  720  5649  1494  289  48  154  490  1312  132  713  659  4.04   1   \n",
       "28  74  650  5457  1324  260  36  148  426  1327   82  731  655  4.09   1   \n",
       "29  68  737  5572  1479  274  49  186  388  1283   97  844  799  5.04   4   \n",
       "\n",
       "    SHO  SV   E  \n",
       "25   21  47  75  \n",
       "26   18  41  78  \n",
       "27   12  44  86  \n",
       "28    6  41  92  \n",
       "29    4  36  95  "
      ]
     },
     "execution_count": 60,
     "metadata": {},
     "output_type": "execute_result"
    }
   ],
   "source": [
    "data_new.tail()"
   ]
  },
  {
   "cell_type": "markdown",
   "id": "e9ca40d0",
   "metadata": {},
   "source": [
    "Documentation:-\n",
    "    \n",
    "Here we can see that there is reduction in the number of records which means outliers are treated."
   ]
  },
  {
   "cell_type": "markdown",
   "id": "95e8e7b9",
   "metadata": {},
   "source": [
    "# IQR method:"
   ]
  },
  {
   "cell_type": "code",
   "execution_count": 61,
   "id": "3723bae0",
   "metadata": {},
   "outputs": [],
   "source": [
    "feature1 = data[['E']]\n",
    "feature2 = feature1\n",
    "feature2 = data[\"R\"]\n",
    "feature3 = feature2\n",
    "feature3 = data[\"SHO\"]\n",
    "feature4 = feature3\n",
    "feature4 = data[\"SV\"]\n",
    "features = feature4"
   ]
  },
  {
   "cell_type": "code",
   "execution_count": 64,
   "id": "9abb99e1",
   "metadata": {},
   "outputs": [],
   "source": [
    "Q1 = features.quantile(0.25)  # 1st quantile\n",
    "\n",
    "Q3 = features.quantile(0.75)  # 3rd quantile\n",
    "\n",
    "IQR = Q3-Q1\n",
    "\n",
    "data_removed = data[~((data <(Q1 - 1.5 * IQR)) | (data > (Q3 + 1.5 * IQR))).any(axis = 1)]"
   ]
  },
  {
   "cell_type": "code",
   "execution_count": 65,
   "id": "bef68691",
   "metadata": {},
   "outputs": [
    {
     "data": {
      "text/plain": [
       "(0, 17)"
      ]
     },
     "execution_count": 65,
     "metadata": {},
     "output_type": "execute_result"
    }
   ],
   "source": [
    "data_removed.shape"
   ]
  },
  {
   "cell_type": "markdown",
   "id": "b633580b",
   "metadata": {},
   "source": [
    "Documentation:-\n",
    "    \n",
    "Here also we have tried to remove outliers from the dataset but we are not able to remove the outliers as the number of records removed can be seen as \"0\", so we will consider Z - Score method itself here."
   ]
  },
  {
   "cell_type": "markdown",
   "id": "67576058",
   "metadata": {},
   "source": [
    "# Finding Skewness in the data:"
   ]
  },
  {
   "cell_type": "code",
   "execution_count": 66,
   "id": "088ea448",
   "metadata": {},
   "outputs": [
    {
     "data": {
      "text/plain": [
       "(29, 17)"
      ]
     },
     "execution_count": 66,
     "metadata": {},
     "output_type": "execute_result"
    }
   ],
   "source": [
    "data_new.shape"
   ]
  },
  {
   "cell_type": "code",
   "execution_count": 67,
   "id": "d10c94e6",
   "metadata": {},
   "outputs": [
    {
     "data": {
      "text/plain": [
       "W      0.119013\n",
       "R     -0.215364\n",
       "AB     0.169573\n",
       "H      0.783772\n",
       "2B    -0.335304\n",
       "3B     0.090124\n",
       "HR     0.450862\n",
       "BB     0.151193\n",
       "SO    -0.233815\n",
       "SB     0.494966\n",
       "RA     0.018155\n",
       "ER     0.018461\n",
       "ERA    0.016693\n",
       "CG     0.854980\n",
       "SHO    0.526943\n",
       "SV     0.627480\n",
       "E      0.840271\n",
       "dtype: float64"
      ]
     },
     "execution_count": 67,
     "metadata": {},
     "output_type": "execute_result"
    }
   ],
   "source": [
    "data_new.skew()"
   ]
  },
  {
   "cell_type": "markdown",
   "id": "359675e9",
   "metadata": {},
   "source": [
    "Documentation:-\n",
    "    \n",
    "Here we can see that the skewness is present or can be seen in the columns : \"SV\" and \"E\""
   ]
  },
  {
   "cell_type": "code",
   "execution_count": 69,
   "id": "3c94d270",
   "metadata": {},
   "outputs": [],
   "source": [
    "data_new['SV'] = np.sqrt(data_new ['SV'])"
   ]
  },
  {
   "cell_type": "code",
   "execution_count": 71,
   "id": "6f1fd3e4",
   "metadata": {},
   "outputs": [],
   "source": [
    "data_new['E'] = np.sqrt(data_new ['E'])\n"
   ]
  },
  {
   "cell_type": "code",
   "execution_count": 72,
   "id": "e058ea71",
   "metadata": {},
   "outputs": [],
   "source": [
    "data_new['CG'] = np.sqrt(data_new ['CG'])\n"
   ]
  },
  {
   "cell_type": "code",
   "execution_count": 73,
   "id": "b4bdec48",
   "metadata": {},
   "outputs": [
    {
     "data": {
      "text/plain": [
       "W      0.119013\n",
       "R     -0.215364\n",
       "AB     0.169573\n",
       "H      0.783772\n",
       "2B    -0.335304\n",
       "3B     0.090124\n",
       "HR     0.450862\n",
       "BB     0.151193\n",
       "SO    -0.233815\n",
       "SB     0.494966\n",
       "RA     0.018155\n",
       "ER     0.018461\n",
       "ERA    0.016693\n",
       "CG    -1.526584\n",
       "SHO    0.526943\n",
       "SV     0.370280\n",
       "E      0.714966\n",
       "dtype: float64"
      ]
     },
     "execution_count": 73,
     "metadata": {},
     "output_type": "execute_result"
    }
   ],
   "source": [
    "data_new.skew()"
   ]
  },
  {
   "cell_type": "markdown",
   "id": "ad8505c8",
   "metadata": {},
   "source": [
    "Documentation:-\n",
    "    \n",
    "Here we can see that there is reduction in the skewness of the columns which are highly skewed before."
   ]
  },
  {
   "cell_type": "markdown",
   "id": "253d0e3f",
   "metadata": {},
   "source": [
    "# Data Preprocessing:"
   ]
  },
  {
   "cell_type": "markdown",
   "id": "31ebbb6f",
   "metadata": {},
   "source": [
    "## Separating the independent and the dependent variables into x and y:"
   ]
  },
  {
   "cell_type": "code",
   "execution_count": 74,
   "id": "574f531d",
   "metadata": {},
   "outputs": [],
   "source": [
    "x = data_new.drop(\"W\", axis=1)\n",
    "y = data_new[\"W\"]"
   ]
  },
  {
   "cell_type": "code",
   "execution_count": 75,
   "id": "abbfd884",
   "metadata": {},
   "outputs": [
    {
     "data": {
      "text/html": [
       "<div>\n",
       "<style scoped>\n",
       "    .dataframe tbody tr th:only-of-type {\n",
       "        vertical-align: middle;\n",
       "    }\n",
       "\n",
       "    .dataframe tbody tr th {\n",
       "        vertical-align: top;\n",
       "    }\n",
       "\n",
       "    .dataframe thead th {\n",
       "        text-align: right;\n",
       "    }\n",
       "</style>\n",
       "<table border=\"1\" class=\"dataframe\">\n",
       "  <thead>\n",
       "    <tr style=\"text-align: right;\">\n",
       "      <th></th>\n",
       "      <th>R</th>\n",
       "      <th>AB</th>\n",
       "      <th>H</th>\n",
       "      <th>2B</th>\n",
       "      <th>3B</th>\n",
       "      <th>HR</th>\n",
       "      <th>BB</th>\n",
       "      <th>SO</th>\n",
       "      <th>SB</th>\n",
       "      <th>RA</th>\n",
       "      <th>ER</th>\n",
       "      <th>ERA</th>\n",
       "      <th>CG</th>\n",
       "      <th>SHO</th>\n",
       "      <th>SV</th>\n",
       "      <th>E</th>\n",
       "    </tr>\n",
       "  </thead>\n",
       "  <tbody>\n",
       "    <tr>\n",
       "      <th>0</th>\n",
       "      <td>724</td>\n",
       "      <td>5575</td>\n",
       "      <td>1497</td>\n",
       "      <td>300</td>\n",
       "      <td>42</td>\n",
       "      <td>139</td>\n",
       "      <td>383</td>\n",
       "      <td>973</td>\n",
       "      <td>104</td>\n",
       "      <td>641</td>\n",
       "      <td>601</td>\n",
       "      <td>3.73</td>\n",
       "      <td>1.189207</td>\n",
       "      <td>8</td>\n",
       "      <td>7.483315</td>\n",
       "      <td>9.380832</td>\n",
       "    </tr>\n",
       "    <tr>\n",
       "      <th>1</th>\n",
       "      <td>696</td>\n",
       "      <td>5467</td>\n",
       "      <td>1349</td>\n",
       "      <td>277</td>\n",
       "      <td>44</td>\n",
       "      <td>156</td>\n",
       "      <td>439</td>\n",
       "      <td>1264</td>\n",
       "      <td>70</td>\n",
       "      <td>700</td>\n",
       "      <td>653</td>\n",
       "      <td>4.07</td>\n",
       "      <td>1.189207</td>\n",
       "      <td>12</td>\n",
       "      <td>6.708204</td>\n",
       "      <td>9.273618</td>\n",
       "    </tr>\n",
       "    <tr>\n",
       "      <th>2</th>\n",
       "      <td>669</td>\n",
       "      <td>5439</td>\n",
       "      <td>1395</td>\n",
       "      <td>303</td>\n",
       "      <td>29</td>\n",
       "      <td>141</td>\n",
       "      <td>533</td>\n",
       "      <td>1157</td>\n",
       "      <td>86</td>\n",
       "      <td>640</td>\n",
       "      <td>584</td>\n",
       "      <td>3.67</td>\n",
       "      <td>1.821160</td>\n",
       "      <td>10</td>\n",
       "      <td>6.164414</td>\n",
       "      <td>8.888194</td>\n",
       "    </tr>\n",
       "    <tr>\n",
       "      <th>3</th>\n",
       "      <td>622</td>\n",
       "      <td>5533</td>\n",
       "      <td>1381</td>\n",
       "      <td>260</td>\n",
       "      <td>27</td>\n",
       "      <td>136</td>\n",
       "      <td>404</td>\n",
       "      <td>1231</td>\n",
       "      <td>68</td>\n",
       "      <td>701</td>\n",
       "      <td>643</td>\n",
       "      <td>3.98</td>\n",
       "      <td>1.626577</td>\n",
       "      <td>9</td>\n",
       "      <td>6.082763</td>\n",
       "      <td>10.049876</td>\n",
       "    </tr>\n",
       "    <tr>\n",
       "      <th>4</th>\n",
       "      <td>689</td>\n",
       "      <td>5605</td>\n",
       "      <td>1515</td>\n",
       "      <td>289</td>\n",
       "      <td>49</td>\n",
       "      <td>151</td>\n",
       "      <td>455</td>\n",
       "      <td>1259</td>\n",
       "      <td>83</td>\n",
       "      <td>803</td>\n",
       "      <td>746</td>\n",
       "      <td>4.64</td>\n",
       "      <td>1.626577</td>\n",
       "      <td>12</td>\n",
       "      <td>5.916080</td>\n",
       "      <td>9.273618</td>\n",
       "    </tr>\n",
       "  </tbody>\n",
       "</table>\n",
       "</div>"
      ],
      "text/plain": [
       "     R    AB     H   2B  3B   HR   BB    SO   SB   RA   ER   ERA        CG  \\\n",
       "0  724  5575  1497  300  42  139  383   973  104  641  601  3.73  1.189207   \n",
       "1  696  5467  1349  277  44  156  439  1264   70  700  653  4.07  1.189207   \n",
       "2  669  5439  1395  303  29  141  533  1157   86  640  584  3.67  1.821160   \n",
       "3  622  5533  1381  260  27  136  404  1231   68  701  643  3.98  1.626577   \n",
       "4  689  5605  1515  289  49  151  455  1259   83  803  746  4.64  1.626577   \n",
       "\n",
       "   SHO        SV          E  \n",
       "0    8  7.483315   9.380832  \n",
       "1   12  6.708204   9.273618  \n",
       "2   10  6.164414   8.888194  \n",
       "3    9  6.082763  10.049876  \n",
       "4   12  5.916080   9.273618  "
      ]
     },
     "execution_count": 75,
     "metadata": {},
     "output_type": "execute_result"
    }
   ],
   "source": [
    "x.head()"
   ]
  },
  {
   "cell_type": "code",
   "execution_count": 76,
   "id": "80034906",
   "metadata": {},
   "outputs": [
    {
     "data": {
      "text/plain": [
       "0    95\n",
       "1    83\n",
       "2    81\n",
       "3    76\n",
       "4    74\n",
       "Name: W, dtype: int64"
      ]
     },
     "execution_count": 76,
     "metadata": {},
     "output_type": "execute_result"
    }
   ],
   "source": [
    "y.head()"
   ]
  },
  {
   "cell_type": "markdown",
   "id": "192acf54",
   "metadata": {},
   "source": [
    "# Scaling the data with Standard Scaler:"
   ]
  },
  {
   "cell_type": "code",
   "execution_count": 77,
   "id": "caefb426",
   "metadata": {},
   "outputs": [
    {
     "data": {
      "text/html": [
       "<div>\n",
       "<style scoped>\n",
       "    .dataframe tbody tr th:only-of-type {\n",
       "        vertical-align: middle;\n",
       "    }\n",
       "\n",
       "    .dataframe tbody tr th {\n",
       "        vertical-align: top;\n",
       "    }\n",
       "\n",
       "    .dataframe thead th {\n",
       "        text-align: right;\n",
       "    }\n",
       "</style>\n",
       "<table border=\"1\" class=\"dataframe\">\n",
       "  <thead>\n",
       "    <tr style=\"text-align: right;\">\n",
       "      <th></th>\n",
       "      <th>R</th>\n",
       "      <th>AB</th>\n",
       "      <th>H</th>\n",
       "      <th>2B</th>\n",
       "      <th>3B</th>\n",
       "      <th>HR</th>\n",
       "      <th>BB</th>\n",
       "      <th>SO</th>\n",
       "      <th>SB</th>\n",
       "      <th>RA</th>\n",
       "      <th>ER</th>\n",
       "      <th>ERA</th>\n",
       "      <th>CG</th>\n",
       "      <th>SHO</th>\n",
       "      <th>SV</th>\n",
       "      <th>E</th>\n",
       "    </tr>\n",
       "  </thead>\n",
       "  <tbody>\n",
       "    <tr>\n",
       "      <th>0</th>\n",
       "      <td>0.959398</td>\n",
       "      <td>0.830084</td>\n",
       "      <td>1.738306</td>\n",
       "      <td>1.556538</td>\n",
       "      <td>1.010845</td>\n",
       "      <td>-0.765863</td>\n",
       "      <td>-1.536359</td>\n",
       "      <td>-2.727623</td>\n",
       "      <td>0.905953</td>\n",
       "      <td>-0.664514</td>\n",
       "      <td>-0.511148</td>\n",
       "      <td>-0.511388</td>\n",
       "      <td>0.005269</td>\n",
       "      <td>-0.813262</td>\n",
       "      <td>1.602631</td>\n",
       "      <td>-0.454325</td>\n",
       "    </tr>\n",
       "    <tr>\n",
       "      <th>1</th>\n",
       "      <td>0.331147</td>\n",
       "      <td>-0.702831</td>\n",
       "      <td>-0.938698</td>\n",
       "      <td>0.201171</td>\n",
       "      <td>1.208917</td>\n",
       "      <td>-0.181389</td>\n",
       "      <td>-0.495021</td>\n",
       "      <td>0.121896</td>\n",
       "      <td>-0.585315</td>\n",
       "      <td>0.154638</td>\n",
       "      <td>0.232161</td>\n",
       "      <td>0.238952</td>\n",
       "      <td>0.005269</td>\n",
       "      <td>0.159299</td>\n",
       "      <td>0.255621</td>\n",
       "      <td>-0.607619</td>\n",
       "    </tr>\n",
       "    <tr>\n",
       "      <th>2</th>\n",
       "      <td>-0.274666</td>\n",
       "      <td>-1.100253</td>\n",
       "      <td>-0.106656</td>\n",
       "      <td>1.733325</td>\n",
       "      <td>-0.276617</td>\n",
       "      <td>-0.697101</td>\n",
       "      <td>1.252941</td>\n",
       "      <td>-0.925866</td>\n",
       "      <td>0.116458</td>\n",
       "      <td>-0.678397</td>\n",
       "      <td>-0.754153</td>\n",
       "      <td>-0.643801</td>\n",
       "      <td>1.358886</td>\n",
       "      <td>-0.326982</td>\n",
       "      <td>-0.689393</td>\n",
       "      <td>-1.158698</td>\n",
       "    </tr>\n",
       "    <tr>\n",
       "      <th>3</th>\n",
       "      <td>-1.329231</td>\n",
       "      <td>0.233951</td>\n",
       "      <td>-0.359886</td>\n",
       "      <td>-0.800621</td>\n",
       "      <td>-0.474688</td>\n",
       "      <td>-0.869006</td>\n",
       "      <td>-1.145857</td>\n",
       "      <td>-0.201246</td>\n",
       "      <td>-0.673037</td>\n",
       "      <td>0.168522</td>\n",
       "      <td>0.089217</td>\n",
       "      <td>0.040333</td>\n",
       "      <td>0.942096</td>\n",
       "      <td>-0.570122</td>\n",
       "      <td>-0.831290</td>\n",
       "      <td>0.502274</td>\n",
       "    </tr>\n",
       "    <tr>\n",
       "      <th>4</th>\n",
       "      <td>0.174084</td>\n",
       "      <td>1.255894</td>\n",
       "      <td>2.063888</td>\n",
       "      <td>0.908319</td>\n",
       "      <td>1.704094</td>\n",
       "      <td>-0.353293</td>\n",
       "      <td>-0.197495</td>\n",
       "      <td>0.072935</td>\n",
       "      <td>-0.015124</td>\n",
       "      <td>1.584683</td>\n",
       "      <td>1.561540</td>\n",
       "      <td>1.496876</td>\n",
       "      <td>0.942096</td>\n",
       "      <td>0.159299</td>\n",
       "      <td>-1.120956</td>\n",
       "      <td>-0.607619</td>\n",
       "    </tr>\n",
       "  </tbody>\n",
       "</table>\n",
       "</div>"
      ],
      "text/plain": [
       "          R        AB         H        2B        3B        HR        BB  \\\n",
       "0  0.959398  0.830084  1.738306  1.556538  1.010845 -0.765863 -1.536359   \n",
       "1  0.331147 -0.702831 -0.938698  0.201171  1.208917 -0.181389 -0.495021   \n",
       "2 -0.274666 -1.100253 -0.106656  1.733325 -0.276617 -0.697101  1.252941   \n",
       "3 -1.329231  0.233951 -0.359886 -0.800621 -0.474688 -0.869006 -1.145857   \n",
       "4  0.174084  1.255894  2.063888  0.908319  1.704094 -0.353293 -0.197495   \n",
       "\n",
       "         SO        SB        RA        ER       ERA        CG       SHO  \\\n",
       "0 -2.727623  0.905953 -0.664514 -0.511148 -0.511388  0.005269 -0.813262   \n",
       "1  0.121896 -0.585315  0.154638  0.232161  0.238952  0.005269  0.159299   \n",
       "2 -0.925866  0.116458 -0.678397 -0.754153 -0.643801  1.358886 -0.326982   \n",
       "3 -0.201246 -0.673037  0.168522  0.089217  0.040333  0.942096 -0.570122   \n",
       "4  0.072935 -0.015124  1.584683  1.561540  1.496876  0.942096  0.159299   \n",
       "\n",
       "         SV         E  \n",
       "0  1.602631 -0.454325  \n",
       "1  0.255621 -0.607619  \n",
       "2 -0.689393 -1.158698  \n",
       "3 -0.831290  0.502274  \n",
       "4 -1.120956 -0.607619  "
      ]
     },
     "execution_count": 77,
     "metadata": {},
     "output_type": "execute_result"
    }
   ],
   "source": [
    "from sklearn.preprocessing import StandardScaler\n",
    "\n",
    "scaler = StandardScaler()\n",
    "x = pd.DataFrame(scaler.fit_transform(x), columns=x.columns)\n",
    "x.head()"
   ]
  },
  {
   "cell_type": "markdown",
   "id": "d29a8b55",
   "metadata": {},
   "source": [
    "# Model Building:"
   ]
  },
  {
   "cell_type": "markdown",
   "id": "e830fa32",
   "metadata": {},
   "source": [
    "# Checking the random_state:"
   ]
  },
  {
   "cell_type": "code",
   "execution_count": 78,
   "id": "b158fd2a",
   "metadata": {},
   "outputs": [
    {
     "name": "stdout",
     "output_type": "stream",
     "text": [
      "Maximum r2 score is  0.8988088015889611  on Random_state  50\n"
     ]
    }
   ],
   "source": [
    "maxAccu=0\n",
    "maxRS=0\n",
    "for i in range(1,100):\n",
    "    x_train,x_test,y_train,y_test = train_test_split(x,y,test_size=.30, random_state=i)\n",
    "    mod = LinearRegression()\n",
    "    mod.fit(x_train, y_train)\n",
    "    pred = mod.predict(x_test)\n",
    "    acc=r2_score(y_test, pred)\n",
    "    if acc>maxAccu:\n",
    "        maxAccu=acc\n",
    "        maxRS=i\n",
    "print(\"Maximum r2 score is \",maxAccu,\" on Random_state \",maxRS)"
   ]
  },
  {
   "cell_type": "markdown",
   "id": "3fe5e14a",
   "metadata": {},
   "source": [
    "Documentation:-\n",
    "    \n",
    "Here we got the accuracy as 81.6% for the random_state = 62"
   ]
  },
  {
   "cell_type": "markdown",
   "id": "ccacd2a6",
   "metadata": {},
   "source": [
    "## train_test_split:"
   ]
  },
  {
   "cell_type": "markdown",
   "id": "e8d116af",
   "metadata": {},
   "source": [
    "## splitting the data at the \"maxRs\" = 62:"
   ]
  },
  {
   "cell_type": "code",
   "execution_count": 79,
   "id": "e9f269dc",
   "metadata": {},
   "outputs": [],
   "source": [
    "x_train,x_test,y_train,y_test=train_test_split(x,y,test_size=.30,random_state=maxRS)"
   ]
  },
  {
   "cell_type": "markdown",
   "id": "80cccc2d",
   "metadata": {},
   "source": [
    "Documentation:-\n",
    "\n",
    "Here we can see that the data is into 70% training and 30% testing."
   ]
  },
  {
   "cell_type": "markdown",
   "id": "52ec8834",
   "metadata": {},
   "source": [
    "# Linear regression:"
   ]
  },
  {
   "cell_type": "code",
   "execution_count": 80,
   "id": "2bf00d11",
   "metadata": {},
   "outputs": [
    {
     "name": "stdout",
     "output_type": "stream",
     "text": [
      "R2_score: 0.8988088015889611\n"
     ]
    }
   ],
   "source": [
    "# Checking r2score for Linear Regression\n",
    "LR = LinearRegression()\n",
    "LR.fit(x_train,y_train)\n",
    "\n",
    "# prediction\n",
    "predLR=LR.predict(x_test)\n",
    "print('R2_score:',metrics.r2_score(y_test,predLR))"
   ]
  },
  {
   "cell_type": "markdown",
   "id": "5d8f808d",
   "metadata": {},
   "source": [
    "Documentation:-\n",
    "\n",
    "The R2 Score in Linear Regression is 81.6%"
   ]
  },
  {
   "cell_type": "code",
   "execution_count": 81,
   "id": "8ea02231",
   "metadata": {},
   "outputs": [
    {
     "name": "stdout",
     "output_type": "stream",
     "text": [
      "3.197467086960308\n",
      "14.521561609011302\n",
      "3.810716679184022\n"
     ]
    }
   ],
   "source": [
    "# Mean Absolute Error (MAE)\n",
    "\n",
    "print(metrics.mean_absolute_error(y_test, predLR))\n",
    "\n",
    "# Mean Squared Error (MSE)\n",
    "print(metrics.mean_squared_error(y_test, predLR))\n",
    "\n",
    "# Root Mean Squared Error (RMSE)\n",
    "print(np.sqrt(metrics.mean_squared_error(y_test, predLR)))"
   ]
  },
  {
   "cell_type": "markdown",
   "id": "d2498615",
   "metadata": {},
   "source": [
    "# Random Forest Regressor:"
   ]
  },
  {
   "cell_type": "code",
   "execution_count": 82,
   "id": "61331d68",
   "metadata": {},
   "outputs": [
    {
     "name": "stdout",
     "output_type": "stream",
     "text": [
      "R2_Score: 0.6679083620096352\n"
     ]
    }
   ],
   "source": [
    "#Checking R2 score for Random Forest Regressor:\n",
    "\n",
    "RFR=RandomForestRegressor()\n",
    "RFR.fit(x_train,y_train)\n",
    "\n",
    "# prediction\n",
    "predRFR=RFR.predict(x_test)\n",
    "print('R2_Score:',metrics.r2_score(y_test,predRFR))"
   ]
  },
  {
   "cell_type": "markdown",
   "id": "23baa179",
   "metadata": {},
   "source": [
    "Documentation:-\n",
    "    \n",
    "Here we can see that accuracy R2 Score is 71%"
   ]
  },
  {
   "cell_type": "markdown",
   "id": "5c6f466f",
   "metadata": {},
   "source": [
    "# Decision Tree Regressor:"
   ]
  },
  {
   "cell_type": "code",
   "execution_count": 83,
   "id": "08d77d5c",
   "metadata": {},
   "outputs": [
    {
     "name": "stdout",
     "output_type": "stream",
     "text": [
      "R2_Score: 0.08792154163799026\n"
     ]
    }
   ],
   "source": [
    "# Checking R2 score for Decision Tree Regressor\n",
    "DTR=DecisionTreeRegressor()\n",
    "DTR.fit(x_train,y_train)\n",
    "\n",
    "# prediction\n",
    "predDTR=DTR.predict(x_test)\n",
    "print('R2_Score:',metrics.r2_score(y_test,predDTR))"
   ]
  },
  {
   "cell_type": "code",
   "execution_count": 84,
   "id": "26d62df7",
   "metadata": {},
   "outputs": [
    {
     "name": "stdout",
     "output_type": "stream",
     "text": [
      "9.555555555555555\n",
      "130.88888888888889\n",
      "11.440668201153676\n"
     ]
    }
   ],
   "source": [
    "# Mean Absolute Error (MAE)\n",
    "print(metrics.mean_absolute_error(y_test, predDTR))\n",
    "\n",
    "# Mean Squared Error (MSE)\n",
    "print(metrics.mean_squared_error(y_test, predDTR))\n",
    "\n",
    "# Root Mean Squared Error (RMSE)\n",
    "print(np.sqrt(metrics.mean_squared_error(y_test, predDTR)))"
   ]
  },
  {
   "cell_type": "markdown",
   "id": "a4904dc6",
   "metadata": {},
   "source": [
    "Documentation:-\n",
    "\n",
    "Here we can see that accuracy R2 Score is 40.5%"
   ]
  },
  {
   "cell_type": "markdown",
   "id": "b883362a",
   "metadata": {},
   "source": [
    "# KNN Regressor:"
   ]
  },
  {
   "cell_type": "code",
   "execution_count": 85,
   "id": "0d657365",
   "metadata": {},
   "outputs": [
    {
     "name": "stdout",
     "output_type": "stream",
     "text": [
      "R2_Score: 0.538757742601514\n"
     ]
    }
   ],
   "source": [
    "# Checking R2 score for KNN regressor\n",
    "\n",
    "knn=KNN()\n",
    "knn.fit(x_train,y_train)\n",
    "\n",
    "#prediction\n",
    "predknn=knn.predict(x_test)\n",
    "print('R2_Score:',metrics.r2_score(y_test,predknn))"
   ]
  },
  {
   "cell_type": "code",
   "execution_count": 86,
   "id": "e61f332e",
   "metadata": {},
   "outputs": [
    {
     "name": "stdout",
     "output_type": "stream",
     "text": [
      "7.2666666666666675\n",
      "66.19111111111113\n",
      "8.135791978111973\n"
     ]
    }
   ],
   "source": [
    "# Mean Absolute Error (MAE)\n",
    "print(metrics.mean_absolute_error(y_test, predknn))\n",
    "\n",
    "# Mean Squared Error (MSE)\n",
    "print(metrics.mean_squared_error(y_test, predknn))\n",
    "\n",
    "# Root Mean Squared Error (RMSE)\n",
    "print(np.sqrt(metrics.mean_squared_error(y_test, predknn)))\n"
   ]
  },
  {
   "cell_type": "markdown",
   "id": "5117801e",
   "metadata": {},
   "source": [
    "Documentation:-\n",
    "    \n",
    "Here we can see that accuracy R2 Score is 66.7%"
   ]
  },
  {
   "cell_type": "markdown",
   "id": "50049932",
   "metadata": {},
   "source": [
    "# Support Vector Regressor:"
   ]
  },
  {
   "cell_type": "code",
   "execution_count": 87,
   "id": "53b00205",
   "metadata": {},
   "outputs": [
    {
     "name": "stdout",
     "output_type": "stream",
     "text": [
      "R2_Score: 0.13325493874946004\n"
     ]
    }
   ],
   "source": [
    "# Checking R2 score for KNN regressor\n",
    "svr=SVR()\n",
    "svr.fit(x_train,y_train)\n",
    "\n",
    "#prediction\n",
    "predsvr=svr.predict(x_test)\n",
    "print('R2_Score:',metrics.r2_score(y_test,predsvr))"
   ]
  },
  {
   "cell_type": "code",
   "execution_count": 88,
   "id": "6c881a88",
   "metadata": {},
   "outputs": [
    {
     "name": "stdout",
     "output_type": "stream",
     "text": [
      "10.084508331810246\n",
      "124.38326656760835\n",
      "11.152724625292617\n"
     ]
    }
   ],
   "source": [
    "# Mean Absolute Error (MAE)\n",
    "print(metrics.mean_absolute_error(y_test, predsvr))\n",
    "\n",
    "# Mean Squared Error (MSE)\n",
    "print(metrics.mean_squared_error(y_test, predsvr))\n",
    "\n",
    "# Root Mean Squared Error (RMSE)\n",
    "print(np.sqrt(metrics.mean_squared_error(y_test, predsvr)))"
   ]
  },
  {
   "cell_type": "markdown",
   "id": "8faee254",
   "metadata": {},
   "source": [
    "Documentation:-\n",
    "    \n",
    "Here we can see that accuracy R2 Score is 13%"
   ]
  },
  {
   "cell_type": "markdown",
   "id": "5a8bce72",
   "metadata": {},
   "source": [
    "# Checking the Cross Validation Score:"
   ]
  },
  {
   "cell_type": "code",
   "execution_count": 89,
   "id": "a634738e",
   "metadata": {},
   "outputs": [
    {
     "name": "stdout",
     "output_type": "stream",
     "text": [
      "-2.7520519651666087\n"
     ]
    }
   ],
   "source": [
    "# Checking cv score for Linear Regression\n",
    "print(cross_val_score(LR,x,y,cv=10).mean())"
   ]
  },
  {
   "cell_type": "code",
   "execution_count": 90,
   "id": "9d1f1f2d",
   "metadata": {},
   "outputs": [
    {
     "name": "stdout",
     "output_type": "stream",
     "text": [
      "-0.5541392569180053\n"
     ]
    }
   ],
   "source": [
    "# Checking cv score for Random Forest Regression\n",
    "print(cross_val_score(RFR,x,y,cv=5).mean())"
   ]
  },
  {
   "cell_type": "code",
   "execution_count": 91,
   "id": "5d679838",
   "metadata": {},
   "outputs": [
    {
     "name": "stdout",
     "output_type": "stream",
     "text": [
      "-2.464329128000094\n"
     ]
    }
   ],
   "source": [
    "# Checking cv score for Decision Tree Regression\n",
    "print(cross_val_score(DTR,x,y,cv=5).mean())"
   ]
  },
  {
   "cell_type": "code",
   "execution_count": 92,
   "id": "23b63d3b",
   "metadata": {},
   "outputs": [
    {
     "name": "stdout",
     "output_type": "stream",
     "text": [
      "0.03447535301700129\n"
     ]
    }
   ],
   "source": [
    "# Checking cv score for KNN Regression\n",
    "print(cross_val_score(knn,x,y,cv=5).mean())"
   ]
  },
  {
   "cell_type": "code",
   "execution_count": 93,
   "id": "9158fd01",
   "metadata": {},
   "outputs": [
    {
     "name": "stdout",
     "output_type": "stream",
     "text": [
      "-0.29905280940552526\n"
     ]
    }
   ],
   "source": [
    "# Checking cv score for SVR Regression\n",
    "print(cross_val_score(svr,x,y,cv=5).mean())"
   ]
  },
  {
   "cell_type": "markdown",
   "id": "6056f6e4",
   "metadata": {},
   "source": [
    "Documentation:-\n",
    "    \n",
    "Here we can see that there are the R2 Score is high for \"Linear Regression\" and so we can consider this model as \"best fitting model\"."
   ]
  },
  {
   "cell_type": "markdown",
   "id": "06399f46",
   "metadata": {},
   "source": [
    "# Hyper Parameter Tuning:"
   ]
  },
  {
   "cell_type": "code",
   "execution_count": 94,
   "id": "6c56af7b",
   "metadata": {},
   "outputs": [],
   "source": [
    "from sklearn.model_selection import GridSearchCV"
   ]
  },
  {
   "cell_type": "code",
   "execution_count": 95,
   "id": "f283cbd5",
   "metadata": {},
   "outputs": [],
   "source": [
    "parameters = {'fit_intercept':[True,False], 'normalize':[True,False], 'copy_X':[True, False]}"
   ]
  },
  {
   "cell_type": "code",
   "execution_count": 96,
   "id": "b32e74db",
   "metadata": {},
   "outputs": [],
   "source": [
    "GCV=GridSearchCV(LinearRegression(),parameters,cv=None)"
   ]
  },
  {
   "cell_type": "code",
   "execution_count": 97,
   "id": "f57107c2",
   "metadata": {},
   "outputs": [
    {
     "data": {
      "text/plain": [
       "GridSearchCV(estimator=LinearRegression(),\n",
       "             param_grid={'copy_X': [True, False],\n",
       "                         'fit_intercept': [True, False],\n",
       "                         'normalize': [True, False]})"
      ]
     },
     "execution_count": 97,
     "metadata": {},
     "output_type": "execute_result"
    }
   ],
   "source": [
    "GCV.fit(x_train,y_train)"
   ]
  },
  {
   "cell_type": "code",
   "execution_count": 98,
   "id": "19cf9200",
   "metadata": {},
   "outputs": [
    {
     "name": "stdout",
     "output_type": "stream",
     "text": [
      " variance :  -34.54313231887367\n",
      "Residual sum of squares: 14.52\n"
     ]
    }
   ],
   "source": [
    "print (\" variance : \", GCV.best_score_)\n",
    "print(\"Residual sum of squares: %.2f\"\n",
    "              % np.mean((GCV.predict(x_test) - y_test) ** 2))"
   ]
  },
  {
   "cell_type": "markdown",
   "id": "8bfd6e9f",
   "metadata": {},
   "source": [
    "Documentation:-\n",
    "    \n",
    "Linear regression is with good accuracy without doing :Grid Search CV\"."
   ]
  },
  {
   "cell_type": "markdown",
   "id": "0a87c01a",
   "metadata": {},
   "source": [
    "# Saving the model:"
   ]
  },
  {
   "cell_type": "code",
   "execution_count": 99,
   "id": "279eb3c1",
   "metadata": {},
   "outputs": [],
   "source": [
    "import pickle\n",
    "filename='W.pkl'\n",
    "pickle.dump(LR,open(filename,'wb'))"
   ]
  },
  {
   "cell_type": "markdown",
   "id": "3f26c44e",
   "metadata": {},
   "source": [
    "# Conclusion:"
   ]
  },
  {
   "cell_type": "code",
   "execution_count": 100,
   "id": "59e87750",
   "metadata": {},
   "outputs": [
    {
     "name": "stdout",
     "output_type": "stream",
     "text": [
      "0.8988088015889611\n"
     ]
    }
   ],
   "source": [
    "loaded_model=pickle.load(open('W.pkl','rb'))\n",
    "result=loaded_model.score(x_test,y_test)\n",
    "print(result)"
   ]
  },
  {
   "cell_type": "code",
   "execution_count": 101,
   "id": "dd1663e7",
   "metadata": {},
   "outputs": [],
   "source": [
    "conclusion=pd.DataFrame([loaded_model.predict(x_test)[:],pred[:]],index=[\"Predicted\",\"Original\"])"
   ]
  },
  {
   "cell_type": "code",
   "execution_count": 102,
   "id": "b376e634",
   "metadata": {},
   "outputs": [
    {
     "data": {
      "text/html": [
       "<div>\n",
       "<style scoped>\n",
       "    .dataframe tbody tr th:only-of-type {\n",
       "        vertical-align: middle;\n",
       "    }\n",
       "\n",
       "    .dataframe tbody tr th {\n",
       "        vertical-align: top;\n",
       "    }\n",
       "\n",
       "    .dataframe thead th {\n",
       "        text-align: right;\n",
       "    }\n",
       "</style>\n",
       "<table border=\"1\" class=\"dataframe\">\n",
       "  <thead>\n",
       "    <tr style=\"text-align: right;\">\n",
       "      <th></th>\n",
       "      <th>0</th>\n",
       "      <th>1</th>\n",
       "      <th>2</th>\n",
       "      <th>3</th>\n",
       "      <th>4</th>\n",
       "      <th>5</th>\n",
       "      <th>6</th>\n",
       "      <th>7</th>\n",
       "      <th>8</th>\n",
       "    </tr>\n",
       "  </thead>\n",
       "  <tbody>\n",
       "    <tr>\n",
       "      <th>Predicted</th>\n",
       "      <td>67.842952</td>\n",
       "      <td>81.279223</td>\n",
       "      <td>78.944147</td>\n",
       "      <td>89.016651</td>\n",
       "      <td>73.173767</td>\n",
       "      <td>63.050683</td>\n",
       "      <td>89.448481</td>\n",
       "      <td>85.862636</td>\n",
       "      <td>93.431833</td>\n",
       "    </tr>\n",
       "    <tr>\n",
       "      <th>Original</th>\n",
       "      <td>55.110495</td>\n",
       "      <td>50.976561</td>\n",
       "      <td>87.962387</td>\n",
       "      <td>77.920768</td>\n",
       "      <td>96.308040</td>\n",
       "      <td>105.223523</td>\n",
       "      <td>106.811083</td>\n",
       "      <td>89.592412</td>\n",
       "      <td>99.439055</td>\n",
       "    </tr>\n",
       "  </tbody>\n",
       "</table>\n",
       "</div>"
      ],
      "text/plain": [
       "                   0          1          2          3          4           5  \\\n",
       "Predicted  67.842952  81.279223  78.944147  89.016651  73.173767   63.050683   \n",
       "Original   55.110495  50.976561  87.962387  77.920768  96.308040  105.223523   \n",
       "\n",
       "                    6          7          8  \n",
       "Predicted   89.448481  85.862636  93.431833  \n",
       "Original   106.811083  89.592412  99.439055  "
      ]
     },
     "execution_count": 102,
     "metadata": {},
     "output_type": "execute_result"
    }
   ],
   "source": [
    "conclusion"
   ]
  },
  {
   "cell_type": "markdown",
   "id": "b2d8c065",
   "metadata": {},
   "source": [
    "Therefore our best model is \"Linear Regression\" with the accuracy of 81.6%"
   ]
  },
  {
   "cell_type": "code",
   "execution_count": null,
   "id": "6d653a74",
   "metadata": {},
   "outputs": [],
   "source": []
  }
 ],
 "metadata": {
  "kernelspec": {
   "display_name": "Python 3",
   "language": "python",
   "name": "python3"
  },
  "language_info": {
   "codemirror_mode": {
    "name": "ipython",
    "version": 3
   },
   "file_extension": ".py",
   "mimetype": "text/x-python",
   "name": "python",
   "nbconvert_exporter": "python",
   "pygments_lexer": "ipython3",
   "version": "3.8.8"
  }
 },
 "nbformat": 4,
 "nbformat_minor": 5
}
